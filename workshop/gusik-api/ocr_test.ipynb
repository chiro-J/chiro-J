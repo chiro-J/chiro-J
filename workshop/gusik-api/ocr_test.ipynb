{
 "cells": [
  {
   "cell_type": "code",
   "execution_count": 11,
   "id": "6710b8d2",
   "metadata": {},
   "outputs": [
    {
     "name": "stdout",
     "output_type": "stream",
     "text": [
      "Requirement already satisfied: easyocr in c:\\users\\admin\\appdata\\local\\packages\\pythonsoftwarefoundation.python.3.11_qbz5n2kfra8p0\\localcache\\local-packages\\python311\\site-packages (1.7.2)\n",
      "Requirement already satisfied: torch in c:\\users\\admin\\appdata\\local\\packages\\pythonsoftwarefoundation.python.3.11_qbz5n2kfra8p0\\localcache\\local-packages\\python311\\site-packages (from easyocr) (2.7.1)\n",
      "Requirement already satisfied: torchvision>=0.5 in c:\\users\\admin\\appdata\\local\\packages\\pythonsoftwarefoundation.python.3.11_qbz5n2kfra8p0\\localcache\\local-packages\\python311\\site-packages (from easyocr) (0.22.1)\n",
      "Requirement already satisfied: opencv-python-headless in c:\\users\\admin\\appdata\\local\\packages\\pythonsoftwarefoundation.python.3.11_qbz5n2kfra8p0\\localcache\\local-packages\\python311\\site-packages (from easyocr) (4.11.0.86)\n",
      "Requirement already satisfied: scipy in c:\\users\\admin\\appdata\\local\\packages\\pythonsoftwarefoundation.python.3.11_qbz5n2kfra8p0\\localcache\\local-packages\\python311\\site-packages (from easyocr) (1.16.0)\n",
      "Requirement already satisfied: numpy in c:\\users\\admin\\appdata\\local\\packages\\pythonsoftwarefoundation.python.3.11_qbz5n2kfra8p0\\localcache\\local-packages\\python311\\site-packages (from easyocr) (2.3.1)\n",
      "Requirement already satisfied: Pillow in c:\\users\\admin\\appdata\\local\\packages\\pythonsoftwarefoundation.python.3.11_qbz5n2kfra8p0\\localcache\\local-packages\\python311\\site-packages (from easyocr) (11.3.0)\n",
      "Requirement already satisfied: scikit-image in c:\\users\\admin\\appdata\\local\\packages\\pythonsoftwarefoundation.python.3.11_qbz5n2kfra8p0\\localcache\\local-packages\\python311\\site-packages (from easyocr) (0.25.2)\n",
      "Requirement already satisfied: python-bidi in c:\\users\\admin\\appdata\\local\\packages\\pythonsoftwarefoundation.python.3.11_qbz5n2kfra8p0\\localcache\\local-packages\\python311\\site-packages (from easyocr) (0.6.6)\n",
      "Requirement already satisfied: PyYAML in c:\\users\\admin\\appdata\\local\\packages\\pythonsoftwarefoundation.python.3.11_qbz5n2kfra8p0\\localcache\\local-packages\\python311\\site-packages (from easyocr) (6.0.2)\n",
      "Requirement already satisfied: Shapely in c:\\users\\admin\\appdata\\local\\packages\\pythonsoftwarefoundation.python.3.11_qbz5n2kfra8p0\\localcache\\local-packages\\python311\\site-packages (from easyocr) (2.1.1)\n",
      "Requirement already satisfied: pyclipper in c:\\users\\admin\\appdata\\local\\packages\\pythonsoftwarefoundation.python.3.11_qbz5n2kfra8p0\\localcache\\local-packages\\python311\\site-packages (from easyocr) (1.3.0.post6)\n",
      "Requirement already satisfied: ninja in c:\\users\\admin\\appdata\\local\\packages\\pythonsoftwarefoundation.python.3.11_qbz5n2kfra8p0\\localcache\\local-packages\\python311\\site-packages (from easyocr) (1.11.1.4)\n",
      "Requirement already satisfied: filelock in c:\\users\\admin\\appdata\\local\\packages\\pythonsoftwarefoundation.python.3.11_qbz5n2kfra8p0\\localcache\\local-packages\\python311\\site-packages (from torch->easyocr) (3.18.0)\n",
      "Requirement already satisfied: typing-extensions>=4.10.0 in c:\\users\\admin\\appdata\\local\\packages\\pythonsoftwarefoundation.python.3.11_qbz5n2kfra8p0\\localcache\\local-packages\\python311\\site-packages (from torch->easyocr) (4.14.0)\n",
      "Requirement already satisfied: sympy>=1.13.3 in c:\\users\\admin\\appdata\\local\\packages\\pythonsoftwarefoundation.python.3.11_qbz5n2kfra8p0\\localcache\\local-packages\\python311\\site-packages (from torch->easyocr) (1.14.0)\n",
      "Requirement already satisfied: networkx in c:\\users\\admin\\appdata\\local\\packages\\pythonsoftwarefoundation.python.3.11_qbz5n2kfra8p0\\localcache\\local-packages\\python311\\site-packages (from torch->easyocr) (3.5)\n",
      "Requirement already satisfied: jinja2 in c:\\users\\admin\\appdata\\local\\packages\\pythonsoftwarefoundation.python.3.11_qbz5n2kfra8p0\\localcache\\local-packages\\python311\\site-packages (from torch->easyocr) (3.1.6)\n",
      "Requirement already satisfied: fsspec in c:\\users\\admin\\appdata\\local\\packages\\pythonsoftwarefoundation.python.3.11_qbz5n2kfra8p0\\localcache\\local-packages\\python311\\site-packages (from torch->easyocr) (2025.5.1)\n",
      "Requirement already satisfied: mpmath<1.4,>=1.1.0 in c:\\users\\admin\\appdata\\local\\packages\\pythonsoftwarefoundation.python.3.11_qbz5n2kfra8p0\\localcache\\local-packages\\python311\\site-packages (from sympy>=1.13.3->torch->easyocr) (1.3.0)\n",
      "Requirement already satisfied: MarkupSafe>=2.0 in c:\\users\\admin\\appdata\\local\\packages\\pythonsoftwarefoundation.python.3.11_qbz5n2kfra8p0\\localcache\\local-packages\\python311\\site-packages (from jinja2->torch->easyocr) (3.0.2)\n",
      "Requirement already satisfied: imageio!=2.35.0,>=2.33 in c:\\users\\admin\\appdata\\local\\packages\\pythonsoftwarefoundation.python.3.11_qbz5n2kfra8p0\\localcache\\local-packages\\python311\\site-packages (from scikit-image->easyocr) (2.37.0)\n",
      "Requirement already satisfied: tifffile>=2022.8.12 in c:\\users\\admin\\appdata\\local\\packages\\pythonsoftwarefoundation.python.3.11_qbz5n2kfra8p0\\localcache\\local-packages\\python311\\site-packages (from scikit-image->easyocr) (2025.6.11)\n",
      "Requirement already satisfied: packaging>=21 in c:\\users\\admin\\appdata\\local\\packages\\pythonsoftwarefoundation.python.3.11_qbz5n2kfra8p0\\localcache\\local-packages\\python311\\site-packages (from scikit-image->easyocr) (25.0)\n",
      "Requirement already satisfied: lazy-loader>=0.4 in c:\\users\\admin\\appdata\\local\\packages\\pythonsoftwarefoundation.python.3.11_qbz5n2kfra8p0\\localcache\\local-packages\\python311\\site-packages (from scikit-image->easyocr) (0.4)\n"
     ]
    }
   ],
   "source": [
    "# !pip install easyocr\n",
    "# !pip install git+https://github.com/JaidedAI/EasyOCR.git"
   ]
  },
  {
   "cell_type": "code",
   "execution_count": 161,
   "id": "6f9f7764",
   "metadata": {},
   "outputs": [],
   "source": [
    "import easyocr\n",
    "# src_img = \"sample.jpg\"         # 하드코딩으로 로컬파일 test, 추후 크롤링한 이미지로 지정"
   ]
  },
  {
   "cell_type": "code",
   "execution_count": 162,
   "id": "6d8a5e6b",
   "metadata": {},
   "outputs": [],
   "source": [
    "# import\n",
    "import requests\n",
    "import lxml\n",
    "from bs4 import BeautifulSoup as bs\n",
    "import re\n",
    "import os\n",
    "import json"
   ]
  },
  {
   "cell_type": "code",
   "execution_count": 163,
   "id": "c4756ab5",
   "metadata": {},
   "outputs": [
    {
     "data": {
      "text/plain": [
       "b'{\"items\":[{\"comment_count\":0,\"is_private\":false,\"pinned\":false,\"publish_to\":1,\"created_at\":1751619057000,\"media\":[{\"caption\":[],\"type\":\"image\",\"url\":\"http://k.kakaocdn.net/dn/Ljzdy/btsO6aZNMhs/T9HmWk2lNH5UsnL55TVPy1/img_xl.jpg\",\"xlarge_url\":\"http://k.kakaocdn.net/dn/Ljzdy/btsO6aZNMhs/T9HmWk2lNH5UsnL55TVPy1/img_xl.jpg\",\"path\":\"Ljzdy/btsO6aZNMhs/T9HmWk2lNH5UsnL55TVPy1\",\"small_url\":\"http://k.kakaocdn.net/dn/Ljzdy/btsO6aZNMhs/T9HmWk2lNH5UsnL55TVPy1/img_s.jpg\",\"filename\":\"img.jpg\",\"avg\":\"#f2f0ee\",\"width\":1181,\"medium_url\":\"http://k.kakaocdn.net/dn/Ljzdy/btsO6aZNMhs/T9HmWk2lNH5UsnL55TVPy1/img_m.jpg\",\"mimetype\":\"image/jpeg\",\"id\":170634808,\"large_url\":\"http://k.kakaocdn.net/dn/Ljzdy/btsO6aZNMhs/T9HmWk2lNH5UsnL55TVPy1/img_l.jpg\",\"height\":832}],\"title\":\"\\xeb\\xb3\\xb8\\xec\\x9a\\xb0\\xeb\\xa6\\xac\\xec\\xa7\\x91\\xeb\\xb0\\xa5 \\xed\\x8c\\x81\\xec\\x8a\\xa4\\xec\\xa0\\x90 7\\xec\\x9b\\x94 2\\xec\\xa3\\xbc\\xec\\xb0\\xa8 \\xec\\xa3\\xbc\\xea\\xb0\\x84\\xeb\\xa9\\x94\\xeb\\x89\\xb4\",\"type\":\"image\",\"liked\":false,\"updated_at\":1751619057000,\"id\":109953644,\"published_at\":1751619057000,\"commentable\":true,\"like_count\":1,\"sort\":\"114794106540064938\",\"adult_only\":false,\"is_manager\":false,\"share_count\":5,\"contents\":[{\"t\":\"text\",\"v\":\"\\xec\\x95\\x88\\xeb\\x85\\x95\\xed\\x95\\x98\\xec\\x84\\xb8\\xec\\x9a\\x94\\xe2\\x98\\xba\\xef\\xb8\\x8f\\\\n7\\xec\\x9b\\x94 2\\xec\\xa3\\xbc\\xec\\xb0\\xa8 \\xec\\xa3\\xbc\\xea\\xb0\\x84\\xeb\\xa9\\x94\\xeb\\x89\\xb4\\xec\\x9e\\x85\\xeb\\x8b\\x88\\xeb\\x8b\\xa4.\\\\n\\xed\\x95\\xad\\xec\\x83\\x81 \\xec\\x9d\\xb4\\xec\\x9a\\xa9\\xed\\x95\\xb4\\xec\\xa3\\xbc\\xec\\x85\\x94\\xec\\x84\\x9c \\xea\\xb0\\x90\\xec\\x82\\xac\\xed\\x95\\xa9\\xeb\\x8b\\x88\\xeb\\x8b\\xa4\\\\uD83D\\\\uDC97\\\\n\\\\n\\\\uD83D\\\\uDCE2 \\xec\\x98\\x88\\xec\\x83\\x81 \\xec\\x8b\\x9d\\xec\\x88\\x98\\xeb\\xb3\\xb4\\xeb\\x8b\\xa4 \\xeb\\xb0\\xa9\\xeb\\xac\\xb8\\xeb\\x9f\\x89\\xec\\x9d\\xb4 \\xec\\xa6\\x9d\\xea\\xb0\\x80\\xed\\x95\\xa0 \\xea\\xb2\\xbd\\xec\\x9a\\xb0, \\xec\\x9d\\xbc\\xeb\\xb6\\x80 \\xeb\\xa9\\x94\\xeb\\x89\\xb4\\xea\\xb0\\x80 \\xeb\\xb3\\x80\\xea\\xb2\\xbd\\xeb\\x90\\x98\\xea\\xb1\\xb0\\xeb\\x82\\x98 \\xec\\xa1\\xb0\\xea\\xb8\\xb0 \\xeb\\xa7\\x88\\xea\\xb0\\x90 \\xed\\x95\\xa0 \\xec\\x88\\x98 \\xec\\x9e\\x88\\xec\\x9d\\x8c\\xec\\x9d\\x84 \\xec\\x95\\x8c\\xeb\\xa0\\xa4\\xeb\\x93\\x9c\\xeb\\xa6\\xbd\\xeb\\x8b\\x88\\xeb\\x8b\\xa4.\"}],\"unlisted\":false,\"permalink\":\"http://pf.kakao.com/_QpjXG/109953644\",\"status\":\"published\"},{\"comment_count\":0,\"is_private\":false,\"pinned\":false,\"publish_to\":1,\"created_at\":1751013401000,\"media\":[{\"caption\":[],\"type\":\"image\",\"url\":\"http://k.kakaocdn.net/dn/by0Xdl/btsOUfuDkyR/SJGFXHWdTrStlTQ8Kbv0IK/img_xl.jpg\",\"xlarge_url\":\"http://k.kakaocdn.net/dn/by0Xdl/btsOUfuDkyR/SJGFXHWdTrStlTQ8Kbv0IK/img_xl.jpg\",\"path\":\"by0Xdl/btsOUfuDkyR/SJGFXHWdTrStlTQ8Kbv0IK\",\"small_url\":\"http://k.kakaocdn.net/dn/by0Xdl/btsOUfuDkyR/SJGFXHWdTrStlTQ8Kbv0IK/img_s.jpg\",\"filename\":\"img.jpg\",\"avg\":\"#f2f0ed\",\"width\":1185,\"medium_url\":\"http://k.kakaocdn.net/dn/by0Xdl/btsOUfuDkyR/SJGFXHWdTrStlTQ8Kbv0IK/img_m.jpg\",\"mimetype\":\"image/jpeg\",\"id\":170209459,\"large_url\":\"http://k.kakaocdn.net/dn/by0Xdl/btsOUfuDkyR/SJGFXHWdTrStlTQ8Kbv0IK/img_l.jpg\",\"height\":832}],\"title\":\"\\xeb\\xb3\\xb8\\xec\\x9a\\xb0\\xeb\\xa6\\xac\\xec\\xa7\\x91\\xeb\\xb0\\xa5 \\xed\\x8c\\x81\\xec\\x8a\\xa4\\xec\\xa0\\x90 7\\xec\\x9b\\x94 1\\xec\\xa3\\xbc\\xec\\xb0\\xa8 \\xec\\xa3\\xbc\\xea\\xb0\\x84\\xeb\\xa9\\x94\\xeb\\x89\\xb4\",\"type\":\"image\",\"liked\":false,\"updated_at\":1751013508000,\"id\":109868203,\"published_at\":1751013401000,\"commentable\":true,\"like_count\":1,\"sort\":\"114754414311585194\",\"adult_only\":false,\"is_manager\":false,\"share_count\":9,\"contents\":[{\"t\":\"text\",\"v\":\"\\xec\\x95\\x88\\xeb\\x85\\x95\\xed\\x95\\x98\\xec\\x84\\xb8\\xec\\x9a\\x94\\xe2\\x98\\xba\\xef\\xb8\\x8f\\\\n7\\xec\\x9b\\x94 1\\xec\\xa3\\xbc\\xec\\xb0\\xa8 \\xec\\xa3\\xbc\\xea\\xb0\\x84\\xeb\\xa9\\x94\\xeb\\x89\\xb4\\xec\\x9e\\x85\\xeb\\x8b\\x88\\xeb\\x8b\\xa4.\\\\n\\xed\\x95\\xad\\xec\\x83\\x81 \\xec\\x9d\\xb4\\xec\\x9a\\xa9\\xed\\x95\\xb4\\xec\\xa3\\xbc\\xec\\x85\\x94\\xec\\x84\\x9c \\xea\\xb0\\x90\\xec\\x82\\xac\\xed\\x95\\xa9\\xeb\\x8b\\x88\\xeb\\x8b\\xa4\\\\uD83D\\\\uDC97\\\\n\\\\n\\\\uD83D\\\\uDCE2 \\xec\\x98\\x88\\xec\\x83\\x81 \\xec\\x8b\\x9d\\xec\\x88\\x98\\xeb\\xb3\\xb4\\xeb\\x8b\\xa4 \\xeb\\xb0\\xa9\\xeb\\xac\\xb8\\xeb\\x9f\\x89\\xec\\x9d\\xb4 \\xec\\xa6\\x9d\\xea\\xb0\\x80\\xed\\x95\\xa0 \\xea\\xb2\\xbd\\xec\\x9a\\xb0, \\xec\\x9d\\xbc\\xeb\\xb6\\x80 \\xeb\\xa9\\x94\\xeb\\x89\\xb4\\xea\\xb0\\x80 \\xeb\\xb3\\x80\\xea\\xb2\\xbd\\xeb\\x90\\x98\\xea\\xb1\\xb0\\xeb\\x82\\x98 \\xec\\xa1\\xb0\\xea\\xb8\\xb0 \\xeb\\xa7\\x88\\xea\\xb0\\x90 \\xed\\x95\\xa0 \\xec\\x88\\x98 \\xec\\x9e\\x88\\xec\\x9d\\x8c\\xec\\x9d\\x84 \\xec\\x95\\x8c\\xeb\\xa0\\xa4\\xeb\\x93\\x9c\\xeb\\xa6\\xbd\\xeb\\x8b\\x88\\xeb\\x8b\\xa4.\"}],\"unlisted\":false,\"permalink\":\"http://pf.kakao.com/_QpjXG/109868203\",\"status\":\"published\"},{\"comment_count\":0,\"is_private\":false,\"pinned\":false,\"publish_to\":1,\"created_at\":1750409095000,\"media\":[{\"caption\":[],\"type\":\"image\",\"url\":\"http://k.kakaocdn.net/dn/d4lbdC/btsOOoKYiEW/8arNbhTsEb95Bkw2YKFcRk/img_xl.jpg\",\"xlarge_url\":\"http://k.kakaocdn.net/dn/d4lbdC/btsOOoKYiEW/8arNbhTsEb95Bkw2YKFcRk/img_xl.jpg\",\"path\":\"d4lbdC/btsOOoKYiEW/8arNbhTsEb95Bkw2YKFcRk\",\"small_url\":\"http://k.kakaocdn.net/dn/d4lbdC/btsOOoKYiEW/8arNbhTsEb95Bkw2YKFcRk/img_s.jpg\",\"filename\":\"img.jpg\",\"avg\":\"#f1efed\",\"width\":1181,\"medium_url\":\"http://k.kakaocdn.net/dn/d4lbdC/btsOOoKYiEW/8arNbhTsEb95Bkw2YKFcRk/img_m.jpg\",\"mimetype\":\"image/jpeg\",\"id\":169967878,\"large_url\":\"http://k.kakaocdn.net/dn/d4lbdC/btsOOoKYiEW/8arNbhTsEb95Bkw2YKFcRk/img_l.jpg\",\"height\":832}],\"title\":\"\\xeb\\xb3\\xb8\\xec\\x9a\\xb0\\xeb\\xa6\\xac\\xec\\xa7\\x91\\xeb\\xb0\\xa5 \\xed\\x8c\\x81\\xec\\x8a\\xa4\\xec\\xa0\\x90 6\\xec\\x9b\\x94 4\\xec\\xa3\\xbc\\xec\\xb0\\xa8 \\xec\\xa3\\xbc\\xea\\xb0\\x84\\xeb\\xa9\\x94\\xeb\\x89\\xb4\",\"type\":\"image\",\"liked\":false,\"updated_at\":1750730273000,\"id\":109794983,\"published_at\":1750409095000,\"commentable\":true,\"like_count\":3,\"sort\":\"114714810476673159\",\"adult_only\":false,\"is_manager\":false,\"share_count\":16,\"contents\":[{\"t\":\"text\",\"v\":\"\\xec\\x95\\x88\\xeb\\x85\\x95\\xed\\x95\\x98\\xec\\x84\\xb8\\xec\\x9a\\x94\\xe2\\x98\\xba\\xef\\xb8\\x8f\\\\n6\\xec\\x9b\\x94 4\\xec\\xa3\\xbc\\xec\\xb0\\xa8 \\xec\\xa3\\xbc\\xea\\xb0\\x84\\xeb\\xa9\\x94\\xeb\\x89\\xb4\\xec\\x9e\\x85\\xeb\\x8b\\x88\\xeb\\x8b\\xa4.\\\\n\\xed\\x95\\xad\\xec\\x83\\x81 \\xec\\x9d\\xb4\\xec\\x9a\\xa9\\xed\\x95\\xb4\\xec\\xa3\\xbc\\xec\\x85\\x94\\xec\\x84\\x9c \\xea\\xb0\\x90\\xec\\x82\\xac\\xed\\x95\\xa9\\xeb\\x8b\\x88\\xeb\\x8b\\xa4\\\\uD83D\\\\uDC97\\\\n\\\\n\\\\uD83D\\\\uDCE2 \\xec\\x98\\x88\\xec\\x83\\x81 \\xec\\x8b\\x9d\\xec\\x88\\x98\\xeb\\xb3\\xb4\\xeb\\x8b\\xa4 \\xeb\\xb0\\xa9\\xeb\\xac\\xb8\\xeb\\x9f\\x89\\xec\\x9d\\xb4 \\xec\\xa6\\x9d\\xea\\xb0\\x80\\xed\\x95\\xa0 \\xea\\xb2\\xbd\\xec\\x9a\\xb0, \\xec\\x9d\\xbc\\xeb\\xb6\\x80 \\xeb\\xa9\\x94\\xeb\\x89\\xb4\\xea\\xb0\\x80 \\xeb\\xb3\\x80\\xea\\xb2\\xbd\\xeb\\x90\\xa0 \\xec\\x88\\x98 \\xec\\x9e\\x88\\xec\\x9d\\x8c\\xec\\x9d\\x84 \\xec\\x95\\x8c\\xeb\\xa0\\xa4\\xeb\\x93\\x9c\\xeb\\xa6\\xbd\\xeb\\x8b\\x88\\xeb\\x8b\\xa4.\"}],\"unlisted\":false,\"permalink\":\"http://pf.kakao.com/_QpjXG/109794983\",\"status\":\"published\"},{\"comment_count\":0,\"is_private\":false,\"pinned\":false,\"publish_to\":1,\"created_at\":1749733333000,\"media\":[{\"caption\":[],\"type\":\"image\",\"url\":\"http://k.kakaocdn.net/dn/blSJ0d/btsOx1DZVzf/523AQyw7KnsCMzkEPMsiMk/img_xl.jpg\",\"xlarge_url\":\"http://k.kakaocdn.net/dn/blSJ0d/btsOx1DZVzf/523AQyw7KnsCMzkEPMsiMk/img_xl.jpg\",\"path\":\"blSJ0d/btsOx1DZVzf/523AQyw7KnsCMzkEPMsiMk\",\"small_url\":\"http://k.kakaocdn.net/dn/blSJ0d/btsOx1DZVzf/523AQyw7KnsCMzkEPMsiMk/img_s.jpg\",\"filename\":\"img.jpg\",\"avg\":\"#f2f0ee\",\"width\":1186,\"medium_url\":\"http://k.kakaocdn.net/dn/blSJ0d/btsOx1DZVzf/523AQyw7KnsCMzkEPMsiMk/img_m.jpg\",\"mimetype\":\"image/jpeg\",\"id\":169392554,\"large_url\":\"http://k.kakaocdn.net/dn/blSJ0d/btsOx1DZVzf/523AQyw7KnsCMzkEPMsiMk/img_l.jpg\",\"height\":833}],\"title\":\"\\xeb\\xb3\\xb8\\xec\\x9a\\xb0\\xeb\\xa6\\xac\\xec\\xa7\\x91\\xeb\\xb0\\xa5 \\xed\\x8c\\x81\\xec\\x8a\\xa4\\xec\\xa0\\x90 6\\xec\\x9b\\x94 3\\xec\\xa3\\xbc\\xec\\xb0\\xa8 \\xec\\xa3\\xbc\\xea\\xb0\\x84\\xeb\\xa9\\x94\\xeb\\x89\\xb4\",\"type\":\"image\",\"liked\":false,\"updated_at\":1749733333000,\"id\":109711624,\"published_at\":1749733333000,\"commentable\":true,\"like_count\":6,\"sort\":\"114670523740953911\",\"adult_only\":false,\"is_manager\":false,\"share_count\":7,\"contents\":[{\"t\":\"text\",\"v\":\"\\xec\\x95\\x88\\xeb\\x85\\x95\\xed\\x95\\x98\\xec\\x84\\xb8\\xec\\x9a\\x94\\xe2\\x98\\xba\\xef\\xb8\\x8f\\\\n6\\xec\\x9b\\x94 3\\xec\\xa3\\xbc\\xec\\xb0\\xa8 \\xec\\xa3\\xbc\\xea\\xb0\\x84\\xeb\\xa9\\x94\\xeb\\x89\\xb4\\xec\\x9e\\x85\\xeb\\x8b\\x88\\xeb\\x8b\\xa4.\\\\n\\xed\\x95\\xad\\xec\\x83\\x81 \\xec\\x9d\\xb4\\xec\\x9a\\xa9\\xed\\x95\\xb4\\xec\\xa3\\xbc\\xec\\x85\\x94\\xec\\x84\\x9c \\xea\\xb0\\x90\\xec\\x82\\xac\\xed\\x95\\xa9\\xeb\\x8b\\x88\\xeb\\x8b\\xa4\\\\uD83D\\\\uDC97\\\\n\\\\n\\\\uD83D\\\\uDCE2 \\xec\\x98\\x88\\xec\\x83\\x81 \\xec\\x8b\\x9d\\xec\\x88\\x98\\xeb\\xb3\\xb4\\xeb\\x8b\\xa4 \\xeb\\xb0\\xa9\\xeb\\xac\\xb8\\xeb\\x9f\\x89\\xec\\x9d\\xb4 \\xec\\xa6\\x9d\\xea\\xb0\\x80\\xed\\x95\\xa0 \\xea\\xb2\\xbd\\xec\\x9a\\xb0, \\xec\\x9d\\xbc\\xeb\\xb6\\x80 \\xeb\\xa9\\x94\\xeb\\x89\\xb4\\xea\\xb0\\x80 \\xeb\\xb3\\x80\\xea\\xb2\\xbd\\xeb\\x90\\xa0 \\xec\\x88\\x98 \\xec\\x9e\\x88\\xec\\x9d\\x8c\\xec\\x9d\\x84 \\xec\\x95\\x8c\\xeb\\xa0\\xa4\\xeb\\x93\\x9c\\xeb\\xa6\\xbd\\xeb\\x8b\\x88\\xeb\\x8b\\xa4.\"}],\"unlisted\":false,\"permalink\":\"http://pf.kakao.com/_QpjXG/109711624\",\"status\":\"published\"},{\"comment_count\":0,\"is_private\":false,\"pinned\":false,\"publish_to\":1,\"created_at\":1749195697000,\"media\":[{\"caption\":[],\"type\":\"image\",\"url\":\"http://k.kakaocdn.net/dn/cGeuZO/btsOvaT0Nsl/9a59gtS6aqI9yXbdGBhuk0/img_xl.jpg\",\"xlarge_url\":\"http://k.kakaocdn.net/dn/cGeuZO/btsOvaT0Nsl/9a59gtS6aqI9yXbdGBhuk0/img_xl.jpg\",\"path\":\"cGeuZO/btsOvaT0Nsl/9a59gtS6aqI9yXbdGBhuk0\",\"small_url\":\"http://k.kakaocdn.net/dn/cGeuZO/btsOvaT0Nsl/9a59gtS6aqI9yXbdGBhuk0/img_s.jpg\",\"filename\":\"img.jpg\",\"avg\":\"#f2f0ee\",\"width\":1182,\"medium_url\":\"http://k.kakaocdn.net/dn/cGeuZO/btsOvaT0Nsl/9a59gtS6aqI9yXbdGBhuk0/img_m.jpg\",\"mimetype\":\"image/jpeg\",\"id\":169227284,\"large_url\":\"http://k.kakaocdn.net/dn/cGeuZO/btsOvaT0Nsl/9a59gtS6aqI9yXbdGBhuk0/img_l.jpg\",\"height\":832}],\"title\":\"\\xeb\\xb3\\xb8\\xec\\x9a\\xb0\\xeb\\xa6\\xac\\xec\\xa7\\x91\\xeb\\xb0\\xa5 \\xed\\x8c\\x81\\xec\\x8a\\xa4\\xec\\xa0\\x90 6\\xec\\x9b\\x94 2\\xec\\xa3\\xbc\\xec\\xb0\\xa8 \\xec\\xa3\\xbc\\xea\\xb0\\x84\\xeb\\xa9\\x94\\xeb\\x89\\xb4\",\"type\":\"image\",\"liked\":false,\"updated_at\":1749536968000,\"id\":109647871,\"published_at\":1749195697000,\"commentable\":true,\"like_count\":2,\"sort\":\"114635289218507027\",\"adult_only\":false,\"is_manager\":false,\"share_count\":17,\"contents\":[{\"t\":\"text\",\"v\":\"\\xec\\x95\\x88\\xeb\\x85\\x95\\xed\\x95\\x98\\xec\\x84\\xb8\\xec\\x9a\\x94\\xe2\\x98\\xba\\xef\\xb8\\x8f\\\\n6\\xec\\x9b\\x94 2\\xec\\xa3\\xbc\\xec\\xb0\\xa8 \\xec\\xa3\\xbc\\xea\\xb0\\x84\\xeb\\xa9\\x94\\xeb\\x89\\xb4\\xec\\x9e\\x85\\xeb\\x8b\\x88\\xeb\\x8b\\xa4.\\\\n\\xed\\x95\\xad\\xec\\x83\\x81 \\xec\\x9d\\xb4\\xec\\x9a\\xa9\\xed\\x95\\xb4\\xec\\xa3\\xbc\\xec\\x85\\x94\\xec\\x84\\x9c \\xea\\xb0\\x90\\xec\\x82\\xac\\xed\\x95\\xa9\\xeb\\x8b\\x88\\xeb\\x8b\\xa4\\\\uD83D\\\\uDC97\\\\n\\\\n\\\\uD83D\\\\uDCE2 \\xec\\x98\\x88\\xec\\x83\\x81 \\xec\\x8b\\x9d\\xec\\x88\\x98\\xeb\\xb3\\xb4\\xeb\\x8b\\xa4 \\xeb\\xb0\\xa9\\xeb\\xac\\xb8\\xeb\\x9f\\x89\\xec\\x9d\\xb4 \\xec\\xa6\\x9d\\xea\\xb0\\x80\\xed\\x95\\xa0 \\xea\\xb2\\xbd\\xec\\x9a\\xb0, \\xec\\x9d\\xbc\\xeb\\xb6\\x80 \\xeb\\xa9\\x94\\xeb\\x89\\xb4\\xea\\xb0\\x80 \\xeb\\xb3\\x80\\xea\\xb2\\xbd\\xeb\\x90\\xa0 \\xec\\x88\\x98 \\xec\\x9e\\x88\\xec\\x9d\\x8c\\xec\\x9d\\x84 \\xec\\x95\\x8c\\xeb\\xa0\\xa4\\xeb\\x93\\x9c\\xeb\\xa6\\xbd\\xeb\\x8b\\x88\\xeb\\x8b\\xa4.\"}],\"unlisted\":false,\"permalink\":\"http://pf.kakao.com/_QpjXG/109647871\",\"status\":\"published\"},{\"comment_count\":0,\"is_private\":false,\"pinned\":false,\"publish_to\":1,\"created_at\":1748595302000,\"media\":[{\"caption\":[],\"type\":\"image\",\"url\":\"http://k.kakaocdn.net/dn/MudAY/btsOjZF22nY/SI8Q7We53OEUOhPnHxm961/img_xl.jpg\",\"xlarge_url\":\"http://k.kakaocdn.net/dn/MudAY/btsOjZF22nY/SI8Q7We53OEUOhPnHxm961/img_xl.jpg\",\"path\":\"MudAY/btsOjZF22nY/SI8Q7We53OEUOhPnHxm961\",\"small_url\":\"http://k.kakaocdn.net/dn/MudAY/btsOjZF22nY/SI8Q7We53OEUOhPnHxm961/img_s.jpg\",\"filename\":\"img.jpg\",\"avg\":\"#efedea\",\"width\":1185,\"medium_url\":\"http://k.kakaocdn.net/dn/MudAY/btsOjZF22nY/SI8Q7We53OEUOhPnHxm961/img_m.jpg\",\"mimetype\":\"image/jpeg\",\"id\":168702273,\"large_url\":\"http://k.kakaocdn.net/dn/MudAY/btsOjZF22nY/SI8Q7We53OEUOhPnHxm961/img_l.jpg\",\"height\":833}],\"title\":\"\\xeb\\xb3\\xb8\\xec\\x9a\\xb0\\xeb\\xa6\\xac\\xec\\xa7\\x91\\xeb\\xb0\\xa5 \\xed\\x8c\\x81\\xec\\x8a\\xa4\\xec\\xa0\\x90 6\\xec\\x9b\\x94 1\\xec\\xa3\\xbc\\xec\\xb0\\xa8 \\xec\\xa3\\xbc\\xea\\xb0\\x84\\xeb\\xa9\\x94\\xeb\\x89\\xb4\",\"type\":\"image\",\"liked\":false,\"updated_at\":1748595302000,\"id\":109576953,\"published_at\":1748595302000,\"commentable\":true,\"like_count\":3,\"sort\":\"114595941739076883\",\"adult_only\":false,\"is_manager\":false,\"share_count\":10,\"contents\":[{\"t\":\"text\",\"v\":\"\\xec\\x95\\x88\\xeb\\x85\\x95\\xed\\x95\\x98\\xec\\x84\\xb8\\xec\\x9a\\x94\\xe2\\x98\\xba\\xef\\xb8\\x8f\\\\n6\\xec\\x9b\\x94 1\\xec\\xa3\\xbc\\xec\\xb0\\xa8 \\xec\\xa3\\xbc\\xea\\xb0\\x84\\xeb\\xa9\\x94\\xeb\\x89\\xb4\\xec\\x9e\\x85\\xeb\\x8b\\x88\\xeb\\x8b\\xa4.\\\\n\\xed\\x95\\xad\\xec\\x83\\x81 \\xec\\x9d\\xb4\\xec\\x9a\\xa9\\xed\\x95\\xb4\\xec\\xa3\\xbc\\xec\\x85\\x94\\xec\\x84\\x9c \\xea\\xb0\\x90\\xec\\x82\\xac\\xed\\x95\\xa9\\xeb\\x8b\\x88\\xeb\\x8b\\xa4\\\\uD83D\\\\uDC97\\\\n\\\\n\\\\uD83D\\\\uDCE2 \\xec\\x98\\x88\\xec\\x83\\x81 \\xec\\x8b\\x9d\\xec\\x88\\x98\\xeb\\xb3\\xb4\\xeb\\x8b\\xa4 \\xeb\\xb0\\xa9\\xeb\\xac\\xb8\\xeb\\x9f\\x89\\xec\\x9d\\xb4 \\xec\\xa6\\x9d\\xea\\xb0\\x80\\xed\\x95\\xa0 \\xea\\xb2\\xbd\\xec\\x9a\\xb0, \\xec\\x9d\\xbc\\xeb\\xb6\\x80 \\xeb\\xa9\\x94\\xeb\\x89\\xb4\\xea\\xb0\\x80 \\xeb\\xb3\\x80\\xea\\xb2\\xbd\\xeb\\x90\\xa0 \\xec\\x88\\x98 \\xec\\x9e\\x88\\xec\\x9d\\x8c\\xec\\x9d\\x84 \\xec\\x95\\x8c\\xeb\\xa0\\xa4\\xeb\\x93\\x9c\\xeb\\xa6\\xbd\\xeb\\x8b\\x88\\xeb\\x8b\\xa4.\\\\n\\\\n\\\\uD83D\\\\uDCCC\\xeb\\x8c\\x80\\xec\\x84\\xa0\\xec\\x9d\\xbc\\xea\\xb3\\xbc \\xed\\x98\\x84\\xec\\xb6\\xa9\\xec\\x9d\\xbc\\xec\\x9d\\x80 \\xeb\\xaf\\xb8\\xec\\x9a\\xb4\\xec\\x98\\x81\\xec\\x9e\\x85\\xeb\\x8b\\x88\\xeb\\x8b\\xa4. \\xec\\x9d\\xb4\\xec\\x9a\\xa9\\xec\\x97\\x90 \\xec\\xb0\\xb8\\xea\\xb3\\xa0 \\xeb\\xb0\\x94\\xeb\\x9e\\x8d\\xeb\\x8b\\x88\\xeb\\x8b\\xa4\\\\uD83D\\\\uDCCC\\\\n\"}],\"unlisted\":false,\"permalink\":\"http://pf.kakao.com/_QpjXG/109576953\",\"status\":\"published\"},{\"comment_count\":0,\"is_private\":false,\"pinned\":false,\"publish_to\":1,\"created_at\":1747909556000,\"media\":[{\"caption\":[],\"type\":\"image\",\"url\":\"http://k.kakaocdn.net/dn/bpmkH2/btsOchmbhJW/NeKSMdcMZRwoo1ke19b6kK/img_xl.jpg\",\"xlarge_url\":\"http://k.kakaocdn.net/dn/bpmkH2/btsOchmbhJW/NeKSMdcMZRwoo1ke19b6kK/img_xl.jpg\",\"path\":\"bpmkH2/btsOchmbhJW/NeKSMdcMZRwoo1ke19b6kK\",\"small_url\":\"http://k.kakaocdn.net/dn/bpmkH2/btsOchmbhJW/NeKSMdcMZRwoo1ke19b6kK/img_s.jpg\",\"filename\":\"img.jpg\",\"avg\":\"#efeeec\",\"width\":1182,\"medium_url\":\"http://k.kakaocdn.net/dn/bpmkH2/btsOchmbhJW/NeKSMdcMZRwoo1ke19b6kK/img_m.jpg\",\"mimetype\":\"image/jpeg\",\"id\":168219163,\"large_url\":\"http://k.kakaocdn.net/dn/bpmkH2/btsOchmbhJW/NeKSMdcMZRwoo1ke19b6kK/img_l.jpg\",\"height\":837}],\"title\":\"\\xeb\\xb3\\xb8\\xec\\x9a\\xb0\\xeb\\xa6\\xac\\xec\\xa7\\x91\\xeb\\xb0\\xa5 \\xed\\x8c\\x81\\xec\\x8a\\xa4\\xec\\xa0\\x90 5\\xec\\x9b\\x94 5\\xec\\xa3\\xbc\\xec\\xb0\\xa8 \\xec\\xa3\\xbc\\xea\\xb0\\x84\\xeb\\xa9\\x94\\xeb\\x89\\xb4\",\"type\":\"image\",\"liked\":false,\"updated_at\":1748241315000,\"id\":109482073,\"published_at\":1747909556000,\"commentable\":true,\"like_count\":2,\"sort\":\"114551000695110531\",\"adult_only\":false,\"is_manager\":false,\"share_count\":7,\"contents\":[{\"t\":\"text\",\"v\":\"\\xec\\x95\\x88\\xeb\\x85\\x95\\xed\\x95\\x98\\xec\\x84\\xb8\\xec\\x9a\\x94\\xe2\\x98\\xba\\xef\\xb8\\x8f\\\\n5\\xec\\x9b\\x94 5\\xec\\xa3\\xbc\\xec\\xb0\\xa8 \\xec\\xa3\\xbc\\xea\\xb0\\x84\\xeb\\xa9\\x94\\xeb\\x89\\xb4\\xec\\x9e\\x85\\xeb\\x8b\\x88\\xeb\\x8b\\xa4.\\\\n\\xed\\x95\\xad\\xec\\x83\\x81 \\xec\\x9d\\xb4\\xec\\x9a\\xa9\\xed\\x95\\xb4\\xec\\xa3\\xbc\\xec\\x85\\x94\\xec\\x84\\x9c \\xea\\xb0\\x90\\xec\\x82\\xac\\xed\\x95\\xa9\\xeb\\x8b\\x88\\xeb\\x8b\\xa4\\\\uD83D\\\\uDC97\\\\n\\\\n\\\\uD83D\\\\uDCE2 \\xec\\x98\\x88\\xec\\x83\\x81 \\xec\\x8b\\x9d\\xec\\x88\\x98\\xeb\\xb3\\xb4\\xeb\\x8b\\xa4 \\xeb\\xb0\\xa9\\xeb\\xac\\xb8\\xeb\\x9f\\x89\\xec\\x9d\\xb4 \\xec\\xa6\\x9d\\xea\\xb0\\x80\\xed\\x95\\xa0 \\xea\\xb2\\xbd\\xec\\x9a\\xb0, \\xec\\x9d\\xbc\\xeb\\xb6\\x80 \\xeb\\xa9\\x94\\xeb\\x89\\xb4\\xea\\xb0\\x80 \\xeb\\xb3\\x80\\xea\\xb2\\xbd\\xeb\\x90\\xa0 \\xec\\x88\\x98 \\xec\\x9e\\x88\\xec\\x9d\\x8c\\xec\\x9d\\x84 \\xec\\x95\\x8c\\xeb\\xa0\\xa4\\xeb\\x93\\x9c\\xeb\\xa6\\xbd\\xeb\\x8b\\x88\\xeb\\x8b\\xa4.\"}],\"unlisted\":false,\"permalink\":\"http://pf.kakao.com/_QpjXG/109482073\",\"status\":\"published\"},{\"comment_count\":2,\"is_private\":false,\"pinned\":false,\"publish_to\":1,\"created_at\":1747724047000,\"media\":[{\"caption\":[],\"type\":\"image\",\"url\":\"http://k.kakaocdn.net/dn/cC3g2i/btsN5Mk72mI/RMbbXXHDm7tyFmiuEnNjQK/img_xl.jpg\",\"xlarge_url\":\"http://k.kakaocdn.net/dn/cC3g2i/btsN5Mk72mI/RMbbXXHDm7tyFmiuEnNjQK/img_xl.jpg\",\"path\":\"cC3g2i/btsN5Mk72mI/RMbbXXHDm7tyFmiuEnNjQK\",\"small_url\":\"http://k.kakaocdn.net/dn/cC3g2i/btsN5Mk72mI/RMbbXXHDm7tyFmiuEnNjQK/img_s.jpg\",\"filename\":\"img.jpg\",\"avg\":\"#efedec\",\"width\":1180,\"medium_url\":\"http://k.kakaocdn.net/dn/cC3g2i/btsN5Mk72mI/RMbbXXHDm7tyFmiuEnNjQK/img_m.jpg\",\"mimetype\":\"image/jpeg\",\"id\":167897953,\"large_url\":\"http://k.kakaocdn.net/dn/cC3g2i/btsN5Mk72mI/RMbbXXHDm7tyFmiuEnNjQK/img_l.jpg\",\"height\":831}],\"title\":\"\\xeb\\xb3\\xb8\\xec\\x9a\\xb0\\xeb\\xa6\\xac\\xec\\xa7\\x91\\xeb\\xb0\\xa5 \\xed\\x8c\\x81\\xec\\x8a\\xa4\\xec\\xa0\\x90 5\\xec\\x9b\\x94 4\\xec\\xa3\\xbc\\xec\\xb0\\xa8 \\xec\\xa3\\xbc\\xea\\xb0\\x84\\xeb\\xa9\\x94\\xeb\\x89\\xb4\",\"type\":\"image\",\"liked\":false,\"updated_at\":1747724047000,\"id\":109452127,\"published_at\":1747724047000,\"commentable\":true,\"like_count\":6,\"sort\":\"114538843173195656\",\"adult_only\":false,\"is_manager\":false,\"share_count\":5,\"contents\":[{\"t\":\"text\",\"v\":\"\\xec\\x95\\x88\\xeb\\x85\\x95\\xed\\x95\\x98\\xec\\x84\\xb8\\xec\\x9a\\x94\\xe2\\x98\\xba\\xef\\xb8\\x8f\\\\n5\\xec\\x9b\\x94 4\\xec\\xa3\\xbc\\xec\\xb0\\xa8 \\xec\\xa3\\xbc\\xea\\xb0\\x84\\xeb\\xa9\\x94\\xeb\\x89\\xb4\\xec\\x9e\\x85\\xeb\\x8b\\x88\\xeb\\x8b\\xa4.\\\\n\\xed\\x95\\xad\\xec\\x83\\x81 \\xec\\x9d\\xb4\\xec\\x9a\\xa9\\xed\\x95\\xb4\\xec\\xa3\\xbc\\xec\\x85\\x94\\xec\\x84\\x9c \\xea\\xb0\\x90\\xec\\x82\\xac\\xed\\x95\\xa9\\xeb\\x8b\\x88\\xeb\\x8b\\xa4\\\\uD83D\\\\uDC97\\\\n\\\\n\\\\uD83D\\\\uDCE2 \\xec\\x98\\x88\\xec\\x83\\x81 \\xec\\x8b\\x9d\\xec\\x88\\x98\\xeb\\xb3\\xb4\\xeb\\x8b\\xa4 \\xeb\\xb0\\xa9\\xeb\\xac\\xb8\\xeb\\x9f\\x89\\xec\\x9d\\xb4 \\xec\\xa6\\x9d\\xea\\xb0\\x80\\xed\\x95\\xa0 \\xea\\xb2\\xbd\\xec\\x9a\\xb0, \\xec\\x9d\\xbc\\xeb\\xb6\\x80 \\xeb\\xa9\\x94\\xeb\\x89\\xb4\\xea\\xb0\\x80 \\xeb\\xb3\\x80\\xea\\xb2\\xbd\\xeb\\x90\\xa0 \\xec\\x88\\x98 \\xec\\x9e\\x88\\xec\\x9d\\x8c\\xec\\x9d\\x84 \\xec\\x95\\x8c\\xeb\\xa0\\xa4\\xeb\\x93\\x9c\\xeb\\xa6\\xbd\\xeb\\x8b\\x88\\xeb\\x8b\\xa4.\"}],\"unlisted\":false,\"permalink\":\"http://pf.kakao.com/_QpjXG/109452127\",\"status\":\"published\"},{\"comment_count\":0,\"is_private\":false,\"pinned\":false,\"publish_to\":1,\"created_at\":1746773759000,\"media\":[{\"caption\":[],\"type\":\"image\",\"url\":\"http://k.kakaocdn.net/dn/8vk0Y/btsNPANQ0ib/eEwHTuKYmKmAZiNBNYyfRK/img_xl.jpg\",\"xlarge_url\":\"http://k.kakaocdn.net/dn/8vk0Y/btsNPANQ0ib/eEwHTuKYmKmAZiNBNYyfRK/img_xl.jpg\",\"path\":\"8vk0Y/btsNPANQ0ib/eEwHTuKYmKmAZiNBNYyfRK\",\"small_url\":\"http://k.kakaocdn.net/dn/8vk0Y/btsNPANQ0ib/eEwHTuKYmKmAZiNBNYyfRK/img_s.jpg\",\"filename\":\"img.jpg\",\"avg\":\"#efedeb\",\"width\":1178,\"medium_url\":\"http://k.kakaocdn.net/dn/8vk0Y/btsNPANQ0ib/eEwHTuKYmKmAZiNBNYyfRK/img_m.jpg\",\"mimetype\":\"image/jpeg\",\"id\":167311508,\"large_url\":\"http://k.kakaocdn.net/dn/8vk0Y/btsNPANQ0ib/eEwHTuKYmKmAZiNBNYyfRK/img_l.jpg\",\"height\":832}],\"title\":\"\\xeb\\xb3\\xb8\\xec\\x9a\\xb0\\xeb\\xa6\\xac\\xec\\xa7\\x91\\xeb\\xb0\\xa5 \\xed\\x8c\\x81\\xec\\x8a\\xa4\\xec\\xa0\\x90 5\\xec\\x9b\\x94 3\\xec\\xa3\\xbc\\xec\\xb0\\xa8 \\xec\\xa3\\xbc\\xea\\xb0\\x84\\xeb\\xa9\\x94\\xeb\\x89\\xb4\",\"type\":\"image\",\"liked\":false,\"updated_at\":1746773759000,\"id\":109339607,\"published_at\":1746773760000,\"commentable\":true,\"like_count\":3,\"sort\":\"114476565139099336\",\"adult_only\":false,\"is_manager\":false,\"share_count\":17,\"contents\":[{\"t\":\"text\",\"v\":\"\\xec\\x95\\x88\\xeb\\x85\\x95\\xed\\x95\\x98\\xec\\x84\\xb8\\xec\\x9a\\x94\\xe2\\x98\\xba\\xef\\xb8\\x8f\\\\n5\\xec\\x9b\\x94 3\\xec\\xa3\\xbc\\xec\\xb0\\xa8 \\xec\\xa3\\xbc\\xea\\xb0\\x84\\xeb\\xa9\\x94\\xeb\\x89\\xb4\\xec\\x9e\\x85\\xeb\\x8b\\x88\\xeb\\x8b\\xa4.\\\\n\\xed\\x95\\xad\\xec\\x83\\x81 \\xec\\x9d\\xb4\\xec\\x9a\\xa9\\xed\\x95\\xb4\\xec\\xa3\\xbc\\xec\\x85\\x94\\xec\\x84\\x9c \\xea\\xb0\\x90\\xec\\x82\\xac\\xed\\x95\\xa9\\xeb\\x8b\\x88\\xeb\\x8b\\xa4\\\\uD83D\\\\uDC97\\\\n\\\\n\\\\uD83D\\\\uDCE2 \\xec\\x98\\x88\\xec\\x83\\x81 \\xec\\x8b\\x9d\\xec\\x88\\x98\\xeb\\xb3\\xb4\\xeb\\x8b\\xa4 \\xeb\\xb0\\xa9\\xeb\\xac\\xb8\\xeb\\x9f\\x89\\xec\\x9d\\xb4 \\xec\\xa6\\x9d\\xea\\xb0\\x80\\xed\\x95\\xa0 \\xea\\xb2\\xbd\\xec\\x9a\\xb0, \\xec\\x9d\\xbc\\xeb\\xb6\\x80 \\xeb\\xa9\\x94\\xeb\\x89\\xb4\\xea\\xb0\\x80 \\xeb\\xb3\\x80\\xea\\xb2\\xbd\\xeb\\x90\\x98\\xea\\xb1\\xb0\\xeb\\x82\\x98 \\xec\\xa1\\xb0\\xea\\xb8\\xb0 \\xeb\\xa7\\x88\\xea\\xb0\\x90\\xeb\\x90\\xa0 \\xec\\x88\\x98 \\xec\\x9e\\x88\\xec\\x9d\\x8c\\xec\\x9d\\x84 \\xec\\x95\\x8c\\xeb\\xa0\\xa4\\xeb\\x93\\x9c\\xeb\\xa6\\xbd\\xeb\\x8b\\x88\\xeb\\x8b\\xa4.\"}],\"unlisted\":false,\"permalink\":\"http://pf.kakao.com/_QpjXG/109339607\",\"status\":\"published\"},{\"comment_count\":0,\"is_private\":false,\"pinned\":false,\"publish_to\":1,\"created_at\":1746161314000,\"media\":[{\"caption\":[],\"type\":\"image\",\"url\":\"http://k.kakaocdn.net/dn/9vfuf/btsNIUc7e3b/xTzHgp1x1PRNDWiV8ekr90/img_xl.jpg\",\"xlarge_url\":\"http://k.kakaocdn.net/dn/9vfuf/btsNIUc7e3b/xTzHgp1x1PRNDWiV8ekr90/img_xl.jpg\",\"path\":\"9vfuf/btsNIUc7e3b/xTzHgp1x1PRNDWiV8ekr90\",\"small_url\":\"http://k.kakaocdn.net/dn/9vfuf/btsNIUc7e3b/xTzHgp1x1PRNDWiV8ekr90/img_s.jpg\",\"filename\":\"img.jpg\",\"avg\":\"#eeedea\",\"width\":1183,\"medium_url\":\"http://k.kakaocdn.net/dn/9vfuf/btsNIUc7e3b/xTzHgp1x1PRNDWiV8ekr90/img_m.jpg\",\"mimetype\":\"image/jpeg\",\"id\":166963766,\"large_url\":\"http://k.kakaocdn.net/dn/9vfuf/btsNIUc7e3b/xTzHgp1x1PRNDWiV8ekr90/img_l.jpg\",\"height\":832}],\"title\":\"\\xeb\\xb3\\xb8\\xec\\x9a\\xb0\\xeb\\xa6\\xac\\xec\\xa7\\x91\\xeb\\xb0\\xa5 \\xed\\x8c\\x81\\xec\\x8a\\xa4\\xec\\xa0\\x90 5\\xec\\x9b\\x94 2\\xec\\xa3\\xbc\\xec\\xb0\\xa8 \\xec\\xa3\\xbc\\xea\\xb0\\x84\\xeb\\xa9\\x94\\xeb\\x89\\xb4\",\"type\":\"image\",\"liked\":false,\"updated_at\":1746161314000,\"id\":109272975,\"published_at\":1746161314000,\"commentable\":true,\"like_count\":2,\"sort\":\"114436427913464067\",\"adult_only\":false,\"is_manager\":false,\"share_count\":4,\"contents\":[{\"t\":\"text\",\"v\":\"\\xec\\x95\\x88\\xeb\\x85\\x95\\xed\\x95\\x98\\xec\\x84\\xb8\\xec\\x9a\\x94\\xe2\\x98\\xba\\xef\\xb8\\x8f\\\\n5\\xec\\x9b\\x94 2\\xec\\xa3\\xbc\\xec\\xb0\\xa8 \\xec\\xa3\\xbc\\xea\\xb0\\x84\\xeb\\xa9\\x94\\xeb\\x89\\xb4\\xec\\x9e\\x85\\xeb\\x8b\\x88\\xeb\\x8b\\xa4.\\\\n\\xed\\x95\\xad\\xec\\x83\\x81 \\xec\\x9d\\xb4\\xec\\x9a\\xa9\\xed\\x95\\xb4\\xec\\xa3\\xbc\\xec\\x85\\x94\\xec\\x84\\x9c \\xea\\xb0\\x90\\xec\\x82\\xac\\xed\\x95\\xa9\\xeb\\x8b\\x88\\xeb\\x8b\\xa4\\\\uD83D\\\\uDC97\\\\n\\\\n\\\\uD83D\\\\uDCE2 \\xec\\x98\\x88\\xec\\x83\\x81 \\xec\\x8b\\x9d\\xec\\x88\\x98\\xeb\\xb3\\xb4\\xeb\\x8b\\xa4 \\xeb\\xb0\\xa9\\xeb\\xac\\xb8\\xeb\\x9f\\x89\\xec\\x9d\\xb4 \\xec\\xa6\\x9d\\xea\\xb0\\x80\\xed\\x95\\xa0 \\xea\\xb2\\xbd\\xec\\x9a\\xb0, \\xec\\x9d\\xbc\\xeb\\xb6\\x80 \\xeb\\xa9\\x94\\xeb\\x89\\xb4\\xea\\xb0\\x80 \\xeb\\xb3\\x80\\xea\\xb2\\xbd\\xeb\\x90\\xa0 \\xec\\x88\\x98 \\xec\\x9e\\x88\\xec\\x9d\\x8c\\xec\\x9d\\x84 \\xec\\x95\\x8c\\xeb\\xa0\\xa4\\xeb\\x93\\x9c\\xeb\\xa6\\xbd\\xeb\\x8b\\x88\\xeb\\x8b\\xa4.\"}],\"unlisted\":false,\"permalink\":\"http://pf.kakao.com/_QpjXG/109272975\",\"status\":\"published\"},{\"comment_count\":0,\"is_private\":false,\"pinned\":false,\"publish_to\":1,\"created_at\":1745566787000,\"media\":[{\"caption\":[],\"type\":\"image\",\"url\":\"http://k.kakaocdn.net/dn/FTqzi/btsNz8bLRjo/kyZcUeSKkJ6WR7GDduQDoK/img_xl.jpg\",\"xlarge_url\":\"http://k.kakaocdn.net/dn/FTqzi/btsNz8bLRjo/kyZcUeSKkJ6WR7GDduQDoK/img_xl.jpg\",\"path\":\"FTqzi/btsNz8bLRjo/kyZcUeSKkJ6WR7GDduQDoK\",\"small_url\":\"http://k.kakaocdn.net/dn/FTqzi/btsNz8bLRjo/kyZcUeSKkJ6WR7GDduQDoK/img_s.jpg\",\"filename\":\"img.jpg\",\"avg\":\"#efede9\",\"width\":1180,\"medium_url\":\"http://k.kakaocdn.net/dn/FTqzi/btsNz8bLRjo/kyZcUeSKkJ6WR7GDduQDoK/img_m.jpg\",\"mimetype\":\"image/jpeg\",\"id\":166544614,\"large_url\":\"http://k.kakaocdn.net/dn/FTqzi/btsNz8bLRjo/kyZcUeSKkJ6WR7GDduQDoK/img_l.jpg\",\"height\":832}],\"title\":\"\\xeb\\xb3\\xb8\\xec\\x9a\\xb0\\xeb\\xa6\\xac\\xec\\xa7\\x91\\xeb\\xb0\\xa5 \\xed\\x8c\\x81\\xec\\x8a\\xa4\\xec\\xa0\\x90 5\\xec\\x9b\\x94 1\\xec\\xa3\\xbc\\xec\\xb0\\xa8 \\xec\\xa3\\xbc\\xea\\xb0\\x84\\xeb\\xa9\\x94\\xeb\\x89\\xb4\",\"type\":\"image\",\"liked\":false,\"updated_at\":1745566880000,\"id\":109187981,\"published_at\":1745566787000,\"commentable\":true,\"like_count\":3,\"sort\":\"114397465010373222\",\"adult_only\":false,\"is_manager\":false,\"share_count\":3,\"contents\":[{\"t\":\"text\",\"v\":\"\\xec\\x95\\x88\\xeb\\x85\\x95\\xed\\x95\\x98\\xec\\x84\\xb8\\xec\\x9a\\x94\\xe2\\x98\\xba\\xef\\xb8\\x8f\\\\n5\\xec\\x9b\\x94 1\\xec\\xa3\\xbc\\xec\\xb0\\xa8 \\xec\\xa3\\xbc\\xea\\xb0\\x84\\xeb\\xa9\\x94\\xeb\\x89\\xb4\\xec\\x9e\\x85\\xeb\\x8b\\x88\\xeb\\x8b\\xa4.\\\\n\\xed\\x95\\xad\\xec\\x83\\x81 \\xec\\x9d\\xb4\\xec\\x9a\\xa9\\xed\\x95\\xb4\\xec\\xa3\\xbc\\xec\\x85\\x94\\xec\\x84\\x9c \\xea\\xb0\\x90\\xec\\x82\\xac\\xed\\x95\\xa9\\xeb\\x8b\\x88\\xeb\\x8b\\xa4\\\\uD83D\\\\uDC97\\\\n\\\\n\\\\uD83D\\\\uDCE2 \\xec\\x98\\x88\\xec\\x83\\x81 \\xec\\x8b\\x9d\\xec\\x88\\x98\\xeb\\xb3\\xb4\\xeb\\x8b\\xa4 \\xeb\\xb0\\xa9\\xeb\\xac\\xb8\\xeb\\x9f\\x89\\xec\\x9d\\xb4 \\xec\\xa6\\x9d\\xea\\xb0\\x80\\xed\\x95\\xa0 \\xea\\xb2\\xbd\\xec\\x9a\\xb0, \\xec\\x9d\\xbc\\xeb\\xb6\\x80 \\xeb\\xa9\\x94\\xeb\\x89\\xb4\\xea\\xb0\\x80 \\xeb\\xb3\\x80\\xea\\xb2\\xbd\\xeb\\x90\\xa0 \\xec\\x88\\x98 \\xec\\x9e\\x88\\xec\\x9d\\x8c\\xec\\x9d\\x84 \\xec\\x95\\x8c\\xeb\\xa0\\xa4\\xeb\\x93\\x9c\\xeb\\xa6\\xbd\\xeb\\x8b\\x88\\xeb\\x8b\\xa4.\\\\n\\\\uD83D\\\\uDCE2 5/1(\\xeb\\xaa\\xa9) \\xea\\xb7\\xbc\\xeb\\xa1\\x9c\\xec\\x9e\\x90\\xec\\x9d\\x98 \\xeb\\x82\\xa0\\xec\\x9d\\x80 \\xec\\x8b\\x9d\\xeb\\x8b\\xb9 \\xeb\\xaf\\xb8\\xec\\x9a\\xb4\\xec\\x98\\x81\\xec\\x9e\\x84\\xec\\x9d\\x84 \\xec\\x95\\x8c\\xeb\\xa0\\xa4\\xeb\\x93\\x9c\\xeb\\xa6\\xbd\\xeb\\x8b\\x88\\xeb\\x8b\\xa4.\"}],\"unlisted\":false,\"permalink\":\"http://pf.kakao.com/_QpjXG/109187981\",\"status\":\"published\"},{\"comment_count\":0,\"is_private\":false,\"pinned\":false,\"publish_to\":1,\"created_at\":1744969767000,\"media\":[{\"caption\":[],\"type\":\"image\",\"url\":\"http://k.kakaocdn.net/dn/iG7JH/btsNrkqoW4Z/D18naznZTik3RQatKY32Rk/img_xl.jpg\",\"xlarge_url\":\"http://k.kakaocdn.net/dn/iG7JH/btsNrkqoW4Z/D18naznZTik3RQatKY32Rk/img_xl.jpg\",\"path\":\"iG7JH/btsNrkqoW4Z/D18naznZTik3RQatKY32Rk\",\"small_url\":\"http://k.kakaocdn.net/dn/iG7JH/btsNrkqoW4Z/D18naznZTik3RQatKY32Rk/img_s.jpg\",\"filename\":\"img.jpg\",\"avg\":\"#efeeec\",\"width\":1180,\"medium_url\":\"http://k.kakaocdn.net/dn/iG7JH/btsNrkqoW4Z/D18naznZTik3RQatKY32Rk/img_m.jpg\",\"mimetype\":\"image/jpeg\",\"id\":166160234,\"large_url\":\"http://k.kakaocdn.net/dn/iG7JH/btsNrkqoW4Z/D18naznZTik3RQatKY32Rk/img_l.jpg\",\"height\":830}],\"title\":\"\\xeb\\xb3\\xb8\\xec\\x9a\\xb0\\xeb\\xa6\\xac\\xec\\xa7\\x91\\xeb\\xb0\\xa5 \\xed\\x8c\\x81\\xec\\x8a\\xa4\\xec\\xa0\\x90 4\\xec\\x9b\\x94 4\\xec\\xa3\\xbc\\xec\\xb0\\xa8 \\xec\\xa3\\xbc\\xea\\xb0\\x84\\xeb\\xa9\\x94\\xeb\\x89\\xb4\",\"type\":\"image\",\"liked\":false,\"updated_at\":1744970173000,\"id\":109111735,\"published_at\":1744969767000,\"commentable\":true,\"like_count\":1,\"sort\":\"114358338715765122\",\"adult_only\":false,\"is_manager\":false,\"share_count\":3,\"contents\":[{\"t\":\"text\",\"v\":\"\\xec\\x95\\x88\\xeb\\x85\\x95\\xed\\x95\\x98\\xec\\x84\\xb8\\xec\\x9a\\x94\\xe2\\x98\\xba\\xef\\xb8\\x8f\\\\n4\\xec\\x9b\\x94 4\\xec\\xa3\\xbc\\xec\\xb0\\xa8 \\xec\\xa3\\xbc\\xea\\xb0\\x84\\xeb\\xa9\\x94\\xeb\\x89\\xb4\\xec\\x9e\\x85\\xeb\\x8b\\x88\\xeb\\x8b\\xa4.\\\\n\\xed\\x95\\xad\\xec\\x83\\x81 \\xec\\x9d\\xb4\\xec\\x9a\\xa9\\xed\\x95\\xb4\\xec\\xa3\\xbc\\xec\\x85\\x94\\xec\\x84\\x9c \\xea\\xb0\\x90\\xec\\x82\\xac\\xed\\x95\\xa9\\xeb\\x8b\\x88\\xeb\\x8b\\xa4\\\\uD83D\\\\uDC97\\\\n\\\\n\\\\uD83D\\\\uDCE2\\xec\\x98\\x88\\xec\\x83\\x81 \\xec\\x8b\\x9d\\xec\\x88\\x98\\xeb\\xb3\\xb4\\xeb\\x8b\\xa4 \\xeb\\xb0\\xa9\\xeb\\xac\\xb8\\xeb\\x9f\\x89\\xec\\x9d\\xb4 \\xec\\xa6\\x9d\\xea\\xb0\\x80\\xed\\x95\\xa0 \\xea\\xb2\\xbd\\xec\\x9a\\xb0, \\xec\\x9d\\xbc\\xeb\\xb6\\x80 \\xeb\\xa9\\x94\\xeb\\x89\\xb4\\xea\\xb0\\x80 \\xeb\\xb3\\x80\\xea\\xb2\\xbd\\xeb\\x90\\xa0 \\xec\\x88\\x98 \\xec\\x9e\\x88\\xec\\x9d\\x8c\\xec\\x9d\\x84 \\xec\\x95\\x8c\\xeb\\xa0\\xa4\\xeb\\x93\\x9c\\xeb\\xa6\\xbd\\xeb\\x8b\\x88\\xeb\\x8b\\xa4.\"}],\"unlisted\":false,\"permalink\":\"http://pf.kakao.com/_QpjXG/109111735\",\"status\":\"published\"},{\"comment_count\":0,\"is_private\":false,\"pinned\":false,\"publish_to\":1,\"created_at\":1744529914000,\"media\":[{\"caption\":[],\"type\":\"image\",\"url\":\"http://k.kakaocdn.net/dn/0CqrQ/btsNmifpm0R/X7o8Grz2tnxy63OPReKzpk/img.png\",\"xlarge_url\":\"http://k.kakaocdn.net/dn/0CqrQ/btsNmifpm0R/X7o8Grz2tnxy63OPReKzpk/img_xl.jpg\",\"path\":\"0CqrQ/btsNmifpm0R/X7o8Grz2tnxy63OPReKzpk\",\"small_url\":\"http://k.kakaocdn.net/dn/0CqrQ/btsNmifpm0R/X7o8Grz2tnxy63OPReKzpk/img_s.jpg\",\"filename\":\"img.png\",\"avg\":\"#f0eeec\",\"width\":1176,\"medium_url\":\"http://k.kakaocdn.net/dn/0CqrQ/btsNmifpm0R/X7o8Grz2tnxy63OPReKzpk/img_m.jpg\",\"mimetype\":\"image/png\",\"id\":165958155,\"large_url\":\"http://k.kakaocdn.net/dn/0CqrQ/btsNmifpm0R/X7o8Grz2tnxy63OPReKzpk/img_l.jpg\",\"height\":825}],\"title\":\"\\xeb\\xb3\\xb8\\xec\\x9a\\xb0\\xeb\\xa6\\xac\\xec\\xa7\\x91\\xeb\\xb0\\xa5 \\xed\\x8c\\x81\\xec\\x8a\\xa4\\xec\\xa0\\x90 4\\xec\\x9b\\x94 3\\xec\\xa3\\xbc\\xec\\xb0\\xa8 \\xec\\xa3\\xbc\\xea\\xb0\\x84\\xeb\\xa9\\x94\\xeb\\x89\\xb4\",\"type\":\"image\",\"liked\":false,\"updated_at\":1744759862000,\"id\":109043834,\"published_at\":1744529914000,\"commentable\":true,\"like_count\":1,\"sort\":\"114329512460385867\",\"adult_only\":false,\"is_manager\":false,\"share_count\":8,\"contents\":[{\"t\":\"text\",\"v\":\"\\xec\\x95\\x88\\xeb\\x85\\x95\\xed\\x95\\x98\\xec\\x84\\xb8\\xec\\x9a\\x94\\xe2\\x98\\xba\\xef\\xb8\\x8f\\\\n\\\\n4\\xec\\x9b\\x94 3\\xec\\xa3\\xbc\\xec\\xb0\\xa8 \\xec\\xa3\\xbc\\xea\\xb0\\x84\\xeb\\xa9\\x94\\xeb\\x89\\xb4\\xec\\x9e\\x85\\xeb\\x8b\\x88\\xeb\\x8b\\xa4.\\\\n\\\\n\\xeb\\xa7\\x8e\\xec\\x9d\\x80 \\xec\\x9d\\xb4\\xec\\x9a\\xa9 \\xeb\\xb0\\x94\\xeb\\x9e\\x8d\\xeb\\x8b\\x88\\xeb\\x8b\\xa4\\\\uD83D\\\\uDC93\"}],\"unlisted\":false,\"permalink\":\"http://pf.kakao.com/_QpjXG/109043834\",\"status\":\"published\"},{\"comment_count\":1,\"is_private\":false,\"pinned\":false,\"publish_to\":1,\"created_at\":1743867762000,\"media\":[{\"caption\":[],\"type\":\"image\",\"url\":\"http://k.kakaocdn.net/dn/dRDHqC/btsNbeCM5rO/a4BbCaDVRnGDLRYlqCSA1k/img.png\",\"xlarge_url\":\"http://k.kakaocdn.net/dn/dRDHqC/btsNbeCM5rO/a4BbCaDVRnGDLRYlqCSA1k/img_xl.jpg\",\"path\":\"dRDHqC/btsNbeCM5rO/a4BbCaDVRnGDLRYlqCSA1k\",\"small_url\":\"http://k.kakaocdn.net/dn/dRDHqC/btsNbeCM5rO/a4BbCaDVRnGDLRYlqCSA1k/img_s.jpg\",\"filename\":\"img.png\",\"avg\":\"#efeeec\",\"width\":1170,\"medium_url\":\"http://k.kakaocdn.net/dn/dRDHqC/btsNbeCM5rO/a4BbCaDVRnGDLRYlqCSA1k/img_m.jpg\",\"mimetype\":\"image/png\",\"id\":165411395,\"large_url\":\"http://k.kakaocdn.net/dn/dRDHqC/btsNbeCM5rO/a4BbCaDVRnGDLRYlqCSA1k/img_l.jpg\",\"height\":821}],\"title\":\"\\xeb\\xb3\\xb8\\xec\\x9a\\xb0\\xeb\\xa6\\xac\\xec\\xa7\\x91\\xeb\\xb0\\xa5 \\xed\\x8c\\x81\\xec\\x8a\\xa4\\xec\\xa0\\x90 4\\xec\\x9b\\x94 2\\xec\\xa3\\xbc\\xec\\xb0\\xa8 \\xec\\xa3\\xbc\\xea\\xb0\\x84\\xeb\\xa9\\x94\\xeb\\x89\\xb4\",\"type\":\"image\",\"liked\":false,\"updated_at\":1744008052000,\"id\":108967636,\"published_at\":1743867763000,\"commentable\":true,\"like_count\":1,\"sort\":\"114286117723386961\",\"adult_only\":false,\"is_manager\":false,\"share_count\":7,\"contents\":[{\"t\":\"text\",\"v\":\"\\xec\\x95\\x88\\xeb\\x85\\x95\\xed\\x95\\x98\\xec\\x84\\xb8\\xec\\x9a\\x94\\xe2\\x98\\xba\\xef\\xb8\\x8f\\\\n\\\\n4\\xec\\x9b\\x94 2\\xec\\xa3\\xbc\\xec\\xb0\\xa8 \\xec\\xa3\\xbc\\xea\\xb0\\x84\\xeb\\xa9\\x94\\xeb\\x89\\xb4\\xec\\x9e\\x85\\xeb\\x8b\\x88\\xeb\\x8b\\xa4.\\\\n\\\\n\\xe2\\x80\\xbb \\xec\\x9e\\xac\\xeb\\xa3\\x8c \\xec\\x88\\x98\\xea\\xb8\\x89 \\xeb\\xac\\xb8\\xec\\xa0\\x9c\\xeb\\xa1\\x9c \\xea\\xb8\\x88\\xec\\x9a\\x94\\xec\\x9d\\xbc \\xed\\x94\\x8c\\xeb\\x9f\\xac\\xec\\x8a\\xa4\\xec\\xbd\\x94\\xeb\\x84\\x88\\xec\\x9d\\x98 \\xe2\\x80\\x98\\xed\\x9d\\x91\\xec\\x9e\\x84\\xec\\x9e\\x90\\xec\\xa3\\xbd\\xe2\\x80\\x98\\xec\\x9d\\x80 \\xe2\\x80\\x98\\xed\\x98\\xb8\\xeb\\xb0\\x95\\xec\\xa3\\xbd\\xe2\\x80\\x99\\xec\\x9c\\xbc\\xeb\\xa1\\x9c \\xeb\\xb3\\x80\\xea\\xb2\\xbd\\xeb\\x90\\xa8\\xec\\x9d\\x84 \\xec\\x95\\x8c\\xeb\\xa0\\xa4\\xeb\\x93\\x9c\\xeb\\xa6\\xbd\\xeb\\x8b\\x88\\xeb\\x8b\\xa4!\\\\n\\\\n\\xeb\\xa7\\x8e\\xec\\x9d\\x80 \\xec\\x9d\\xb4\\xec\\x9a\\xa9 \\xeb\\xb0\\x94\\xeb\\x9e\\x8d\\xeb\\x8b\\x88\\xeb\\x8b\\xa4\\\\uD83D\\\\uDC93\"}],\"unlisted\":false,\"permalink\":\"http://pf.kakao.com/_QpjXG/108967636\",\"status\":\"published\"},{\"comment_count\":0,\"is_private\":false,\"pinned\":false,\"publish_to\":1,\"created_at\":1743154947000,\"media\":[{\"caption\":[],\"type\":\"image\",\"url\":\"http://k.kakaocdn.net/dn/drFITj/btsM1prphZJ/0ZZnDGtJiwigvZMhBZrg71/img_xl.jpg\",\"xlarge_url\":\"http://k.kakaocdn.net/dn/drFITj/btsM1prphZJ/0ZZnDGtJiwigvZMhBZrg71/img_xl.jpg\",\"path\":\"drFITj/btsM1prphZJ/0ZZnDGtJiwigvZMhBZrg71\",\"small_url\":\"http://k.kakaocdn.net/dn/drFITj/btsM1prphZJ/0ZZnDGtJiwigvZMhBZrg71/img_s.jpg\",\"filename\":\"img.jpg\",\"avg\":\"#efedeb\",\"width\":1178,\"medium_url\":\"http://k.kakaocdn.net/dn/drFITj/btsM1prphZJ/0ZZnDGtJiwigvZMhBZrg71/img_m.jpg\",\"mimetype\":\"image/jpeg\",\"id\":164942207,\"large_url\":\"http://k.kakaocdn.net/dn/drFITj/btsM1prphZJ/0ZZnDGtJiwigvZMhBZrg71/img_l.jpg\",\"height\":832}],\"title\":\"\\xeb\\xb3\\xb8\\xec\\x9a\\xb0\\xeb\\xa6\\xac\\xec\\xa7\\x91\\xeb\\xb0\\xa5 \\xed\\x8c\\x81\\xec\\x8a\\xa4\\xec\\xa0\\x90 4\\xec\\x9b\\x94 1\\xec\\xa3\\xbc\\xec\\xb0\\xa8 \\xec\\xa3\\xbc\\xea\\xb0\\x84\\xeb\\xa9\\x94\\xeb\\x89\\xb4\",\"type\":\"image\",\"liked\":false,\"updated_at\":1743867716000,\"id\":108875165,\"published_at\":1743154947000,\"commentable\":true,\"like_count\":4,\"sort\":\"114239402656146637\",\"adult_only\":false,\"is_manager\":false,\"share_count\":2,\"contents\":[{\"t\":\"text\",\"v\":\"\\xec\\x95\\x88\\xeb\\x85\\x95\\xed\\x95\\x98\\xec\\x84\\xb8\\xec\\x9a\\x94\\xe2\\x98\\xba\\xef\\xb8\\x8f\\\\n\\\\n4\\xec\\x9b\\x94 1\\xec\\xa3\\xbc\\xec\\xb0\\xa8 \\xec\\xa3\\xbc\\xea\\xb0\\x84\\xeb\\xa9\\x94\\xeb\\x89\\xb4\\xec\\x9e\\x85\\xeb\\x8b\\x88\\xeb\\x8b\\xa4.\\\\n\\\\n\\xeb\\xa7\\x8e\\xec\\x9d\\x80 \\xec\\x9d\\xb4\\xec\\x9a\\xa9 \\xeb\\xb0\\x94\\xeb\\x9e\\x8d\\xeb\\x8b\\x88\\xeb\\x8b\\xa4\\\\uD83D\\\\uDC93\"}],\"unlisted\":false,\"permalink\":\"http://pf.kakao.com/_QpjXG/108875165\",\"status\":\"published\"},{\"comment_count\":0,\"is_private\":false,\"pinned\":false,\"publish_to\":1,\"created_at\":1742546215000,\"media\":[{\"caption\":[],\"type\":\"image\",\"url\":\"http://k.kakaocdn.net/dn/yzTb1/btsMR8YrVoa/FkQ3KhKhPbzqpV9kF3c6eK/img_xl.jpg\",\"xlarge_url\":\"http://k.kakaocdn.net/dn/yzTb1/btsMR8YrVoa/FkQ3KhKhPbzqpV9kF3c6eK/img_xl.jpg\",\"path\":\"yzTb1/btsMR8YrVoa/FkQ3KhKhPbzqpV9kF3c6eK\",\"small_url\":\"http://k.kakaocdn.net/dn/yzTb1/btsMR8YrVoa/FkQ3KhKhPbzqpV9kF3c6eK/img_s.jpg\",\"filename\":\"img.jpg\",\"avg\":\"#efedeb\",\"width\":1176,\"medium_url\":\"http://k.kakaocdn.net/dn/yzTb1/btsMR8YrVoa/FkQ3KhKhPbzqpV9kF3c6eK/img_m.jpg\",\"mimetype\":\"image/jpeg\",\"id\":164545544,\"large_url\":\"http://k.kakaocdn.net/dn/yzTb1/btsMR8YrVoa/FkQ3KhKhPbzqpV9kF3c6eK/img_l.jpg\",\"height\":827}],\"title\":\"\",\"type\":\"image\",\"liked\":false,\"updated_at\":1743154409000,\"id\":108799304,\"published_at\":1742546215000,\"commentable\":true,\"like_count\":5,\"sort\":\"114199508764951458\",\"adult_only\":false,\"is_manager\":false,\"share_count\":3,\"contents\":[{\"t\":\"text\",\"v\":\"\\xec\\x95\\x88\\xeb\\x85\\x95\\xed\\x95\\x98\\xec\\x84\\xb8\\xec\\x9a\\x94! \\xeb\\xb3\\xb8\\xec\\x9a\\xb0\\xeb\\xa6\\xac\\xec\\xa7\\x91\\xeb\\xb0\\xa5 \\xed\\x8c\\x81\\xec\\x8a\\xa4\\xec\\xa0\\x90 \\xec\\x9e\\x85\\xeb\\x8b\\x88\\xeb\\x8b\\xa4:)\\\\n3\\xec\\x9b\\x94 4\\xec\\xa3\\xbc\\xec\\xb0\\xa8 \\xec\\xa3\\xbc\\xea\\xb0\\x84\\xeb\\xa9\\x94\\xeb\\x89\\xb4\\xed\\x91\\x9c \\xec\\x9e\\x85\\xeb\\x8b\\x88\\xeb\\x8b\\xa4.\\\\n\\\\n\\xea\\xb0\\x90\\xec\\x82\\xac\\xed\\x95\\xa9\\xeb\\x8b\\x88\\xeb\\x8b\\xa4\\xe2\\x98\\xba\\xef\\xb8\\x8f\"}],\"unlisted\":false,\"permalink\":\"http://pf.kakao.com/_QpjXG/108799304\",\"status\":\"published\"},{\"comment_count\":0,\"is_private\":false,\"pinned\":false,\"publish_to\":1,\"created_at\":1741842454000,\"media\":[{\"caption\":[],\"type\":\"image\",\"url\":\"http://k.kakaocdn.net/dn/NsWhS/btsMJn1V3Vo/lNDsCf3YvkjslAIWjMc4y1/img_xl.jpg\",\"xlarge_url\":\"http://k.kakaocdn.net/dn/NsWhS/btsMJn1V3Vo/lNDsCf3YvkjslAIWjMc4y1/img_xl.jpg\",\"path\":\"NsWhS/btsMJn1V3Vo/lNDsCf3YvkjslAIWjMc4y1\",\"small_url\":\"http://k.kakaocdn.net/dn/NsWhS/btsMJn1V3Vo/lNDsCf3YvkjslAIWjMc4y1/img_s.jpg\",\"filename\":\"img.jpg\",\"avg\":\"#edeae7\",\"width\":1783,\"medium_url\":\"http://k.kakaocdn.net/dn/NsWhS/btsMJn1V3Vo/lNDsCf3YvkjslAIWjMc4y1/img_m.jpg\",\"mimetype\":\"image/jpeg\",\"id\":164049708,\"large_url\":\"http://k.kakaocdn.net/dn/NsWhS/btsMJn1V3Vo/lNDsCf3YvkjslAIWjMc4y1/img_l.jpg\",\"height\":1205}],\"title\":\"\",\"type\":\"image\",\"liked\":false,\"updated_at\":1743154455000,\"id\":108704993,\"published_at\":1741842454000,\"commentable\":true,\"like_count\":3,\"sort\":\"114153387115786437\",\"adult_only\":false,\"is_manager\":false,\"share_count\":6,\"contents\":[{\"t\":\"text\",\"v\":\"\\xec\\x95\\x88\\xeb\\x85\\x95\\xed\\x95\\x98\\xec\\x84\\xb8\\xec\\x9a\\x94! \\xeb\\xb3\\xb8\\xec\\x9a\\xb0\\xeb\\xa6\\xac\\xec\\xa7\\x91\\xeb\\xb0\\xa5 \\xed\\x8c\\x81\\xec\\x8a\\xa4\\xec\\xa0\\x90 \\xec\\x9e\\x85\\xeb\\x8b\\x88\\xeb\\x8b\\xa4:)\\\\n3\\xec\\x9b\\x94 3\\xec\\xa3\\xbc \\xec\\xb0\\xa8 \\xec\\xa3\\xbc\\xea\\xb0\\x84 \\xeb\\xa9\\x94\\xeb\\x89\\xb4 \\xec\\x9e\\x85\\xeb\\x8b\\x88\\xeb\\x8b\\xa4.\\\\n\\xea\\xb2\\x8c\\xec\\x8b\\x9c\\xed\\x8c\\x90 \\xec\\x9d\\x98\\xea\\xb2\\xac \\xeb\\xa7\\x8e\\xec\\x9d\\xb4 \\xeb\\xb3\\x80\\xec\\x98\\x81\\xed\\x95\\x98\\xea\\xb3\\xa0 \\xec\\x9e\\x88\\xec\\x8a\\xb5\\xeb\\x8b\\x88\\xeb\\x8b\\xa4! \\xec\\xb0\\xb8\\xea\\xb3\\xa0 \\xeb\\xb6\\x80\\xed\\x83\\x81\\xeb\\x93\\x9c\\xeb\\xa6\\xbd\\xeb\\x8b\\x88\\xeb\\x8b\\xa4\\\\n\\\\n\\xea\\xb0\\x90\\xec\\x82\\xac\\xed\\x95\\xa9\\xeb\\x8b\\x88\\xeb\\x8b\\xa4\"}],\"unlisted\":false,\"permalink\":\"http://pf.kakao.com/_QpjXG/108704993\",\"status\":\"published\"},{\"comment_count\":0,\"is_private\":false,\"pinned\":false,\"publish_to\":1,\"created_at\":1741570883000,\"media\":[{\"caption\":[],\"type\":\"image\",\"url\":\"http://k.kakaocdn.net/dn/NU2gA/btsMEN7PJ46/lFa0fkoY7CePtNUctwu3k0/img_xl.jpg\",\"xlarge_url\":\"http://k.kakaocdn.net/dn/NU2gA/btsMEN7PJ46/lFa0fkoY7CePtNUctwu3k0/img_xl.jpg\",\"path\":\"NU2gA/btsMEN7PJ46/lFa0fkoY7CePtNUctwu3k0\",\"small_url\":\"http://k.kakaocdn.net/dn/NU2gA/btsMEN7PJ46/lFa0fkoY7CePtNUctwu3k0/img_s.jpg\",\"filename\":\"img.jpg\",\"avg\":\"#ebe7e4\",\"width\":1783,\"medium_url\":\"http://k.kakaocdn.net/dn/NU2gA/btsMEN7PJ46/lFa0fkoY7CePtNUctwu3k0/img_m.jpg\",\"mimetype\":\"image/jpeg\",\"id\":163836918,\"large_url\":\"http://k.kakaocdn.net/dn/NU2gA/btsMEN7PJ46/lFa0fkoY7CePtNUctwu3k0/img_l.jpg\",\"height\":1140}],\"title\":\"\",\"type\":\"image\",\"liked\":false,\"updated_at\":1743154474000,\"id\":108661533,\"published_at\":1741570883000,\"commentable\":true,\"like_count\":1,\"sort\":\"114135589408847221\",\"adult_only\":false,\"is_manager\":false,\"share_count\":7,\"contents\":[{\"t\":\"text\",\"v\":\"\\\\n\\xec\\x95\\x88\\xeb\\x85\\x95\\xed\\x95\\x98\\xec\\x84\\xb8\\xec\\x9a\\x94! \\xeb\\xb3\\xb8\\xec\\x9a\\xb0\\xeb\\xa6\\xac\\xec\\xa7\\x91\\xeb\\xb0\\xa5 \\xed\\x8c\\x81\\xec\\x8a\\xa4\\xec\\xa0\\x90 \\xec\\x9e\\x85\\xeb\\x8b\\x88\\xeb\\x8b\\xa4:)\\\\n3\\xec\\x9b\\x94 2\\xec\\xa3\\xbc \\xec\\xb0\\xa8 \\xec\\xa3\\xbc\\xea\\xb0\\x84 \\xeb\\xa9\\x94\\xeb\\x89\\xb4 \\xec\\x9e\\x85\\xeb\\x8b\\x88\\xeb\\x8b\\xa4.\\\\n\\xea\\xb2\\x8c\\xec\\x8b\\x9c\\xed\\x8c\\x90 \\xec\\x9d\\x98\\xea\\xb2\\xac \\xeb\\xa7\\x8e\\xec\\x9d\\xb4 \\xeb\\xb3\\x80\\xec\\x98\\x81\\xed\\x95\\x98\\xea\\xb3\\xa0 \\xec\\x9e\\x88\\xec\\x8a\\xb5\\xeb\\x8b\\x88\\xeb\\x8b\\xa4! \\xec\\xb0\\xb8\\xea\\xb3\\xa0 \\xeb\\xb6\\x80\\xed\\x83\\x81\\xeb\\x93\\x9c\\xeb\\xa6\\xbd\\xeb\\x8b\\x88\\xeb\\x8b\\xa4\\\\n\\\\n\\xea\\xb0\\x90\\xec\\x82\\xac\\xed\\x95\\xa9\\xeb\\x8b\\x88\\xeb\\x8b\\xa4\"}],\"unlisted\":false,\"permalink\":\"http://pf.kakao.com/_QpjXG/108661533\",\"status\":\"published\"},{\"comment_count\":0,\"is_private\":false,\"pinned\":false,\"publish_to\":1,\"created_at\":1740705851000,\"media\":[{\"caption\":[],\"type\":\"image\",\"url\":\"http://k.kakaocdn.net/dn/Qj5fV/btsMAi6GFP3/1BNptI7DvUKDgGnIcyW8bk/img.png\",\"xlarge_url\":\"http://k.kakaocdn.net/dn/Qj5fV/btsMAi6GFP3/1BNptI7DvUKDgGnIcyW8bk/img_xl.jpg\",\"path\":\"Qj5fV/btsMAi6GFP3/1BNptI7DvUKDgGnIcyW8bk\",\"small_url\":\"http://k.kakaocdn.net/dn/Qj5fV/btsMAi6GFP3/1BNptI7DvUKDgGnIcyW8bk/img_s.jpg\",\"filename\":\"img.png\",\"avg\":\"#ece9e6\",\"width\":1112,\"medium_url\":\"http://k.kakaocdn.net/dn/Qj5fV/btsMAi6GFP3/1BNptI7DvUKDgGnIcyW8bk/img_m.jpg\",\"mimetype\":\"image/png\",\"id\":163317605,\"large_url\":\"http://k.kakaocdn.net/dn/Qj5fV/btsMAi6GFP3/1BNptI7DvUKDgGnIcyW8bk/img_l.jpg\",\"height\":717}],\"title\":\"\",\"type\":\"image\",\"liked\":false,\"updated_at\":1743154518000,\"id\":108559003,\"published_at\":1740705851000,\"commentable\":true,\"like_count\":1,\"sort\":\"114078898707744036\",\"adult_only\":false,\"is_manager\":false,\"share_count\":6,\"contents\":[{\"t\":\"text\",\"v\":\"\\\\n\\xec\\x95\\x88\\xeb\\x85\\x95\\xed\\x95\\x98\\xec\\x84\\xb8\\xec\\x9a\\x94! \\xeb\\xb3\\xb8\\xec\\x9a\\xb0\\xeb\\xa6\\xac\\xec\\xa7\\x91\\xeb\\xb0\\xa5 \\xed\\x8c\\x81\\xec\\x8a\\xa4\\xec\\xa0\\x90 \\xec\\x9e\\x85\\xeb\\x8b\\x88\\xeb\\x8b\\xa4:)\\\\n3\\xec\\x9b\\x94 1\\xec\\xa3\\xbc \\xec\\xb0\\xa8 \\xec\\xa3\\xbc\\xea\\xb0\\x84 \\xeb\\xa9\\x94\\xeb\\x89\\xb4 \\xec\\x9e\\x85\\xeb\\x8b\\x88\\xeb\\x8b\\xa4.\\\\n\\xea\\xb2\\x8c\\xec\\x8b\\x9c\\xed\\x8c\\x90 \\xec\\x9d\\x98\\xea\\xb2\\xac \\xeb\\xa7\\x8e\\xec\\x9d\\xb4 \\xeb\\xb3\\x80\\xec\\x98\\x81\\xed\\x95\\x98\\xea\\xb3\\xa0 \\xec\\x9e\\x88\\xec\\x8a\\xb5\\xeb\\x8b\\x88\\xeb\\x8b\\xa4! \\xec\\xb0\\xb8\\xea\\xb3\\xa0 \\xeb\\xb6\\x80\\xed\\x83\\x81\\xeb\\x93\\x9c\\xeb\\xa6\\xbd\\xeb\\x8b\\x88\\xeb\\x8b\\xa4\\\\n\\\\n\\xea\\xb0\\x90\\xec\\x82\\xac\\xed\\x95\\xa9\\xeb\\x8b\\x88\\xeb\\x8b\\xa4\\\\n\\\\n*\\xed\\x99\\x94\\xec\\x9a\\x94\\xec\\x9d\\xbc\\xea\\xb3\\xbc \\xec\\x88\\x98\\xec\\x9a\\x94\\xec\\x9d\\xbc \\xeb\\xa9\\x94\\xeb\\x89\\xb4\\xea\\xb0\\x80 \\xeb\\xb3\\x80\\xea\\xb2\\xbd\\xeb\\x90\\x98\\xec\\x97\\x88\\xec\\x9c\\xbc\\xeb\\x8b\\x88, \\xec\\x9d\\xb4 \\xec\\xa0\\x90 \\xec\\xb0\\xb8\\xea\\xb3\\xa0 \\xeb\\xb6\\x80\\xed\\x83\\x81\\xeb\\x93\\x9c\\xeb\\xa6\\xbd\\xeb\\x8b\\x88\\xeb\\x8b\\xa4. \\xeb\\xb6\\x88\\xed\\x8e\\xb8\\xec\\x9d\\x84 \\xeb\\x93\\x9c\\xeb\\xa0\\xa4 \\xec\\xa3\\x84\\xec\\x86\\xa1\\xed\\x95\\xa9\\xeb\\x8b\\x88\\xeb\\x8b\\xa4.\"}],\"unlisted\":false,\"permalink\":\"http://pf.kakao.com/_QpjXG/108559003\",\"status\":\"published\"},{\"comment_count\":0,\"is_private\":false,\"pinned\":false,\"publish_to\":1,\"created_at\":1740117234000,\"media\":[{\"caption\":[],\"type\":\"image\",\"url\":\"http://k.kakaocdn.net/dn/b2rDvY/btsMrCE5iWC/lvKXo2C09bzM3OjLer28C1/img.png\",\"xlarge_url\":\"http://k.kakaocdn.net/dn/b2rDvY/btsMrCE5iWC/lvKXo2C09bzM3OjLer28C1/img_xl.jpg\",\"path\":\"b2rDvY/btsMrCE5iWC/lvKXo2C09bzM3OjLer28C1\",\"small_url\":\"http://k.kakaocdn.net/dn/b2rDvY/btsMrCE5iWC/lvKXo2C09bzM3OjLer28C1/img_s.jpg\",\"filename\":\"img.png\",\"avg\":\"#edeae7\",\"width\":1107,\"medium_url\":\"http://k.kakaocdn.net/dn/b2rDvY/btsMrCE5iWC/lvKXo2C09bzM3OjLer28C1/img_m.jpg\",\"mimetype\":\"image/png\",\"id\":162936096,\"large_url\":\"http://k.kakaocdn.net/dn/b2rDvY/btsMrCE5iWC/lvKXo2C09bzM3OjLer28C1/img_l.jpg\",\"height\":715}],\"title\":\"\",\"type\":\"image\",\"liked\":false,\"updated_at\":1740117277000,\"id\":108484909,\"published_at\":1740117234000,\"commentable\":true,\"like_count\":3,\"sort\":\"114040323079999509\",\"adult_only\":false,\"is_manager\":false,\"share_count\":7,\"contents\":[{\"t\":\"text\",\"v\":\"**\\xec\\x98\\xa8\\xeb\\x9d\\xbc\\xec\\x9d\\xb8 \\xea\\xb2\\x8c\\xec\\x8b\\x9c\\xed\\x8c\\x90 \\xeb\\xa7\\x8e\\xec\\x9d\\x80 \\xec\\x9d\\xb4\\xec\\x9a\\xa9 \\xeb\\xb6\\x80\\xed\\x83\\x81 \\xeb\\x93\\x9c\\xeb\\xa6\\xbd\\xeb\\x8b\\x88\\xeb\\x8b\\xa4!**\\\\n\\xea\\xb2\\x8c\\xec\\x8b\\x9c\\xed\\x8c\\x90 URL: \"},{\"t\":\"link\",\"v\":\"https://forms.gle/EDYW6btv3M4jyAnh9\"},{\"t\":\"text\",\"v\":\"\\\\n\\\\n\\xec\\x95\\x88\\xeb\\x85\\x95\\xed\\x95\\x98\\xec\\x84\\xb8\\xec\\x9a\\x94! \\xeb\\xb3\\xb8\\xec\\x9a\\xb0\\xeb\\xa6\\xac\\xec\\xa7\\x91\\xeb\\xb0\\xa5 \\xed\\x8c\\x81\\xec\\x8a\\xa4\\xec\\xa0\\x90 \\xec\\x9e\\x85\\xeb\\x8b\\x88\\xeb\\x8b\\xa4:)\\\\n2\\xec\\x9b\\x94 4\\xec\\xa3\\xbc \\xec\\xb0\\xa8 \\xec\\xa3\\xbc\\xea\\xb0\\x84 \\xeb\\xa9\\x94\\xeb\\x89\\xb4 \\xec\\x9e\\x85\\xeb\\x8b\\x88\\xeb\\x8b\\xa4.\\\\n\\xea\\xb2\\x8c\\xec\\x8b\\x9c\\xed\\x8c\\x90 \\xec\\x9d\\x98\\xea\\xb2\\xac \\xeb\\xa7\\x8e\\xec\\x9d\\xb4 \\xeb\\xb3\\x80\\xec\\x98\\x81\\xed\\x95\\x98\\xea\\xb3\\xa0 \\xec\\x9e\\x88\\xec\\x8a\\xb5\\xeb\\x8b\\x88\\xeb\\x8b\\xa4! \\xec\\xb0\\xb8\\xea\\xb3\\xa0 \\xeb\\xb6\\x80\\xed\\x83\\x81\\xeb\\x93\\x9c\\xeb\\xa6\\xbd\\xeb\\x8b\\x88\\xeb\\x8b\\xa4\\\\n\\\\n\\xea\\xb0\\x90\\xec\\x82\\xac\\xed\\x95\\xa9\\xeb\\x8b\\x88\\xeb\\x8b\\xa4\"}],\"unlisted\":false,\"permalink\":\"http://pf.kakao.com/_QpjXG/108484909\",\"status\":\"published\"}],\"has_next\":true}'"
      ]
     },
     "execution_count": 163,
     "metadata": {},
     "output_type": "execute_result"
    }
   ],
   "source": [
    "url = \"https://pf.kakao.com/rocket-web/web/profiles/_QpjXG/posts?includePinnedPost=true\"\n",
    "res = requests.get(url)\n",
    "soup = bs(res.content, \"lxml\")\n",
    "html = res.text\n",
    "\n",
    "res.content\n"
   ]
  },
  {
   "cell_type": "code",
   "execution_count": 164,
   "id": "442244f0",
   "metadata": {},
   "outputs": [
    {
     "name": "stdout",
     "output_type": "stream",
     "text": [
      "이미지 URL: http://k.kakaocdn.net/dn/Ljzdy/btsO6aZNMhs/T9HmWk2lNH5UsnL55TVPy1/img_xl.jpg\n"
     ]
    }
   ],
   "source": [
    "response = requests.get(url)\n",
    "data = res.json()\n",
    "\n",
    "# 이미지 URL 추출\n",
    "image_url = data['items'][0]['media'][0]['url']\n",
    "print(f\"이미지 URL: {image_url}\")\n"
   ]
  },
  {
   "cell_type": "code",
   "execution_count": 165,
   "id": "fa7dbc6e",
   "metadata": {},
   "outputs": [],
   "source": [
    "src_img = image_url"
   ]
  },
  {
   "cell_type": "code",
   "execution_count": 166,
   "id": "33166e31",
   "metadata": {},
   "outputs": [
    {
     "name": "stderr",
     "output_type": "stream",
     "text": [
      "Neither CUDA nor MPS are available - defaulting to CPU. Note: This module is much faster with a GPU.\n"
     ]
    },
    {
     "name": "stdout",
     "output_type": "stream",
     "text": [
      "Progress: |███████████████████████████████████████████████████| 103.6% Complete"
     ]
    },
    {
     "name": "stderr",
     "output_type": "stream",
     "text": [
      "C:\\Users\\Admin\\AppData\\Local\\Packages\\PythonSoftwareFoundation.Python.3.11_qbz5n2kfra8p0\\LocalCache\\local-packages\\Python311\\site-packages\\torch\\utils\\data\\dataloader.py:665: UserWarning: 'pin_memory' argument is set as true but no accelerator is found, then device pinned memory won't be used.\n",
      "  warnings.warn(warn_msg)\n"
     ]
    }
   ],
   "source": [
    "reader = easyocr.Reader(['ko','en'])\n",
    "ocr_txt = reader.readtext(src_img)\n",
    "\n",
    "\n",
    "raw = []\n",
    "\n",
    "\n",
    "for b_box, text, cf_level in ocr_txt:\n",
    "    raw.append(text)  # 각 OCR 결과의 텍스트를 추가\n",
    "\n"
   ]
  },
  {
   "cell_type": "code",
   "execution_count": 117,
   "id": "f8135a35",
   "metadata": {},
   "outputs": [
    {
     "data": {
      "text/plain": [
       "['본우리집밥',\n",
       " '본우리집밥 주간 메뉴표',\n",
       " '본우리집밥 팀스점',\n",
       " '구분',\n",
       " '7 / 7 (월)',\n",
       " '7 / 8 (화)',\n",
       " '7 / 9 (수)',\n",
       " '7 / 10 (목)',\n",
       " '7 / 11 (금)',\n",
       " '오늘은 집밥',\n",
       " '오늘은 집밥',\n",
       " '오늘은 일품',\n",
       " '오늘은 집밥',\n",
       " '오늘은 집밥',\n",
       " '오징어까스&화철리s',\n",
       " '콩나물물고기',\n",
       " '까르보나라스파게티',\n",
       " '순살고추장점닭',\n",
       " \"'고구마치즈돈까스\",\n",
       " '우삼경짜글이찌개',\n",
       " '잡곡밥',\n",
       " '눈쫓치즈함박스테이크',\n",
       " '잡곡밥',\n",
       " '잡곡밥',\n",
       " '중식',\n",
       " '(11:20~13:30)',\n",
       " '잡곡밥',\n",
       " '냉도토리묵사발',\n",
       " '에그필라프',\n",
       " '다시마무채국',\n",
       " '된장찌개',\n",
       " '감자채볶음',\n",
       " '사각어물볶음',\n",
       " '미소장국',\n",
       " '돈민찌두부조림',\n",
       " '모든콩조림',\n",
       " '비타민경적이',\n",
       " '못두부무침',\n",
       " '수제비트양배주피글',\n",
       " '부추적채무침',\n",
       " '아삭이고추심장무침',\n",
       " '배추김치',\n",
       " '꽉두기',\n",
       " '배추김치',\n",
       " '배추김치',\n",
       " '배추김치',\n",
       " '현미밥',\n",
       " '현미밥',\n",
       " '현미밥',\n",
       " '현미밥',\n",
       " '현미밥',\n",
       " '지집음식}',\n",
       " 'PLUS 코너',\n",
       " '시원한 미슷가루',\n",
       " '더위극복 수박화채',\n",
       " '오렌지에이드',\n",
       " '시원한 식혜',\n",
       " '시원한 매실차',\n",
       " '그런설러드&드레싱',\n",
       " '그런설러드&드레싱',\n",
       " '그런설러드&드레싱',\n",
       " '그런설러드&드레싱',\n",
       " '그런생러드&드레싱',\n",
       " 'TAKE-OUT',\n",
       " '실러드',\n",
       " '치권멘더설러드',\n",
       " '불고기생러드',\n",
       " '닭가슴살실러드',\n",
       " '새우탕감실러드',\n",
       " '훈제오리설러드',\n",
       " '식자재의 원산지논 일일메뉴 게시판에 별도로 표시하엿습니다:',\n",
       " '알레로기 주의 메뉴가 있으니 확인바람니다.',\n",
       " '안내사항',\n",
       " '(난류; 우유 메밀, 땅콩 대두 , 밀 고등어, 게, 새우, 돼지고기 복숨아 토마토, 아황산류, 호두, 닮고기, 쇠고기, 오징어, 조개류(굴, 전복, 홍합) ,자)',\n",
       " '왼실단은 실작재 소금에 따라 변경보 소 있습니다',\n",
       " '고대워최c',\n",
       " '고과충손',\n",
       " \"'3l주 6\"]"
      ]
     },
     "execution_count": 117,
     "metadata": {},
     "output_type": "execute_result"
    }
   ],
   "source": [
    "raw"
   ]
  },
  {
   "cell_type": "code",
   "execution_count": 167,
   "id": "7ac23ea9",
   "metadata": {},
   "outputs": [
    {
     "data": {
      "text/plain": [
       "['7/7(월)',\n",
       " '7/8(화)',\n",
       " '7/9(수)',\n",
       " '7/10(목)',\n",
       " '7/11(금)',\n",
       " '오늘은 집밥',\n",
       " '오늘은 집밥',\n",
       " '오늘은 일품',\n",
       " '오늘은 집밥',\n",
       " '오늘은 집밥',\n",
       " '오징어까스&화철리s',\n",
       " '콩나물물고기',\n",
       " '까르보나라스파게티',\n",
       " '순살고추장점닭',\n",
       " \"'고구마치즈돈까스\",\n",
       " '우삼경짜글이찌개',\n",
       " '잡곡밥',\n",
       " '눈쫓치즈함박스테이크',\n",
       " '잡곡밥',\n",
       " '잡곡밥',\n",
       " '중식',\n",
       " '(11:20~13:30)',\n",
       " '잡곡밥',\n",
       " '냉도토리묵사발',\n",
       " '에그필라프',\n",
       " '다시마무채국',\n",
       " '된장찌개',\n",
       " '감자채볶음',\n",
       " '사각어물볶음',\n",
       " '미소장국',\n",
       " '돈민찌두부조림',\n",
       " '모든콩조림',\n",
       " '비타민경적이',\n",
       " '못두부무침',\n",
       " '수제비트양배주피글',\n",
       " '부추적채무침',\n",
       " '아삭이고추심장무침',\n",
       " '배추김치',\n",
       " '꽉두기',\n",
       " '배추김치',\n",
       " '배추김치',\n",
       " '배추김치',\n",
       " '현미밥',\n",
       " '현미밥',\n",
       " '현미밥',\n",
       " '현미밥',\n",
       " '현미밥',\n",
       " '지집음식}',\n",
       " 'PLUS 코너',\n",
       " '시원한 미슷가루',\n",
       " '더위극복 수박화채',\n",
       " '오렌지에이드',\n",
       " '시원한 식혜',\n",
       " '시원한 매실차',\n",
       " '그런설러드&드레싱',\n",
       " '그런설러드&드레싱',\n",
       " '그런설러드&드레싱',\n",
       " '그런설러드&드레싱',\n",
       " '그런생러드&드레싱',\n",
       " 'TAKE-OUT',\n",
       " '실러드',\n",
       " '치권멘더설러드',\n",
       " '불고기생러드',\n",
       " '닭가슴살실러드',\n",
       " '새우탕감실러드',\n",
       " '훈제오리설러드',\n",
       " '식자재의 원산지논 일일메뉴 게시판에 별도로 표시하엿습니다:',\n",
       " '알레로기 주의 메뉴가 있으니 확인바람니다.']"
      ]
     },
     "execution_count": 167,
     "metadata": {},
     "output_type": "execute_result"
    }
   ],
   "source": [
    "contents = raw[4:-6]\n",
    "contents[:5] = [item.replace(' ', '') for item in contents[:5]]\n",
    "contents"
   ]
  },
  {
   "cell_type": "code",
   "execution_count": 168,
   "id": "c9b3c94c",
   "metadata": {
    "vscode": {
     "languageId": "javascript"
    }
   },
   "outputs": [],
   "source": [
    "# 메뉴 이외의 것들은 불용어 리스트에 추가\n",
    "stopword_patterns = [r'오늘은', r'추천', r'메뉴', r'^\\d+시', r'PLUS', r'(11:20~13:30)', r'중식', r'TAKE-OUT', r'음식', ]"
   ]
  },
  {
   "cell_type": "code",
   "execution_count": 169,
   "id": "962a78e5",
   "metadata": {
    "vscode": {
     "languageId": "javascript"
    }
   },
   "outputs": [
    {
     "data": {
      "text/plain": [
       "['7/7(월)',\n",
       " '7/8(화)',\n",
       " '7/9(수)',\n",
       " '7/10(목)',\n",
       " '7/11(금)',\n",
       " '오징어까스&화철리s',\n",
       " '콩나물물고기',\n",
       " '까르보나라스파게티',\n",
       " '순살고추장점닭',\n",
       " \"'고구마치즈돈까스\",\n",
       " '우삼경짜글이찌개',\n",
       " '잡곡밥',\n",
       " '눈쫓치즈함박스테이크',\n",
       " '잡곡밥',\n",
       " '잡곡밥',\n",
       " '잡곡밥',\n",
       " '냉도토리묵사발',\n",
       " '에그필라프',\n",
       " '다시마무채국',\n",
       " '된장찌개',\n",
       " '감자채볶음',\n",
       " '사각어물볶음',\n",
       " '미소장국',\n",
       " '돈민찌두부조림',\n",
       " '모든콩조림',\n",
       " '비타민경적이',\n",
       " '못두부무침',\n",
       " '수제비트양배주피글',\n",
       " '부추적채무침',\n",
       " '아삭이고추심장무침',\n",
       " '배추김치',\n",
       " '꽉두기',\n",
       " '배추김치',\n",
       " '배추김치',\n",
       " '배추김치',\n",
       " '현미밥',\n",
       " '현미밥',\n",
       " '현미밥',\n",
       " '현미밥',\n",
       " '현미밥',\n",
       " '시원한 미슷가루',\n",
       " '더위극복 수박화채',\n",
       " '오렌지에이드',\n",
       " '시원한 식혜',\n",
       " '시원한 매실차',\n",
       " '그런설러드&드레싱',\n",
       " '그런설러드&드레싱',\n",
       " '그런설러드&드레싱',\n",
       " '그런설러드&드레싱',\n",
       " '그런생러드&드레싱',\n",
       " '치권멘더설러드',\n",
       " '불고기생러드',\n",
       " '닭가슴살실러드',\n",
       " '새우탕감실러드',\n",
       " '훈제오리설러드']"
      ]
     },
     "execution_count": 169,
     "metadata": {},
     "output_type": "execute_result"
    }
   ],
   "source": [
    "# 메뉴 만을 추출, 불용어 처리, 정제\n",
    "con = [word for word in contents if not any(re.search(pattern, word) for pattern in stopword_patterns)]\n",
    "\n",
    "ref_con = con[:-6] + con[-5:]\n",
    "\n",
    "ref_con\n"
   ]
  },
  {
   "cell_type": "code",
   "execution_count": 170,
   "id": "cb1f0aa4",
   "metadata": {},
   "outputs": [
    {
     "data": {
      "text/plain": [
       "55"
      ]
     },
     "execution_count": 170,
     "metadata": {},
     "output_type": "execute_result"
    }
   ],
   "source": [
    "len(ref_con)"
   ]
  },
  {
   "cell_type": "code",
   "execution_count": 171,
   "id": "f5b5233d",
   "metadata": {},
   "outputs": [
    {
     "data": {
      "text/plain": [
       "['7/7(월)',\n",
       " '오징어까스&화철리s',\n",
       " '우삼경짜글이찌개',\n",
       " '잡곡밥',\n",
       " '감자채볶음',\n",
       " '비타민경적이',\n",
       " '배추김치',\n",
       " '현미밥',\n",
       " '시원한 미슷가루',\n",
       " '그런설러드&드레싱',\n",
       " '치권멘더설러드']"
      ]
     },
     "execution_count": 171,
     "metadata": {},
     "output_type": "execute_result"
    }
   ],
   "source": [
    "ref_con[::5]"
   ]
  },
  {
   "cell_type": "code",
   "execution_count": 153,
   "id": "3c4f805a",
   "metadata": {},
   "outputs": [],
   "source": [
    "# [::n] n번째 요소마다 꺼내서 각 요일 리스트에 추가\n",
    "mon_list = ref_con[::5]\n",
    "tue_list = ref_con[1::5]\n",
    "wed_list = ref_con[2::5]\n",
    "thu_list = ref_con[3::5]\n",
    "fri_list = ref_con[4::5]\n"
   ]
  },
  {
   "cell_type": "code",
   "execution_count": 172,
   "id": "6ee4f88c",
   "metadata": {},
   "outputs": [
    {
     "data": {
      "text/plain": [
       "['7/10(목)',\n",
       " '순살고추장점닭',\n",
       " '잡곡밥',\n",
       " '다시마무채국',\n",
       " '돈민찌두부조림',\n",
       " '부추적채무침',\n",
       " '배추김치',\n",
       " '현미밥',\n",
       " '시원한 식혜',\n",
       " '그런설러드&드레싱',\n",
       " '새우탕감실러드']"
      ]
     },
     "execution_count": 172,
     "metadata": {},
     "output_type": "execute_result"
    }
   ],
   "source": [
    "thu_list"
   ]
  },
  {
   "cell_type": "code",
   "execution_count": 173,
   "id": "2d0e8d4b",
   "metadata": {},
   "outputs": [
    {
     "data": {
      "text/plain": [
       "['순살고추장점닭',\n",
       " '잡곡밥',\n",
       " '다시마무채국',\n",
       " '돈민찌두부조림',\n",
       " '부추적채무침',\n",
       " '배추김치',\n",
       " '현미밥',\n",
       " '시원한 식혜',\n",
       " '그런설러드&드레싱']"
      ]
     },
     "execution_count": 173,
     "metadata": {},
     "output_type": "execute_result"
    }
   ],
   "source": [
    "thu_list[1:-1]"
   ]
  },
  {
   "cell_type": "code",
   "execution_count": 175,
   "id": "4f57ccc9",
   "metadata": {},
   "outputs": [],
   "source": [
    "# 5개의 리스트 각각에서 0번 인덱스 값은 'day' 라는 항목에 넣기\n",
    "# 4번 인덱스 값은 'veg' 라는 항목에 넣기\n",
    "# 딕셔너리 구조 {day: -, menu: [], veg: -}\n",
    "\n",
    "mon_dict = {\n",
    "    'day': mon_list[0],\n",
    "    'menu': mon_list[1:-1],\n",
    "    'veg': mon_list[-1]\n",
    "}\n",
    "tue_dict = {\n",
    "    'day': tue_list[0],\n",
    "    'menu': tue_list[1:-1],\n",
    "    'veg': tue_list[-1]\n",
    "}\n",
    "wed_dict = {\n",
    "    'day': wed_list[0],\n",
    "    'menu': wed_list[1:-1],\n",
    "    'veg': wed_list[-1]\n",
    "}\n",
    "thu_dict = {\n",
    "    'day': thu_list[0],\n",
    "    'menu': thu_list[1:-1],\n",
    "    'veg': thu_list[-1]\n",
    "}\n",
    "fri_dict = {\n",
    "    'day': fri_list[0],\n",
    "    'menu': fri_list[1:-1],\n",
    "    'veg': fri_list[-1]\n",
    "}"
   ]
  },
  {
   "cell_type": "code",
   "execution_count": 176,
   "id": "196c3bdd",
   "metadata": {},
   "outputs": [
    {
     "data": {
      "text/plain": [
       "{'day': '7/8(화)',\n",
       " 'menu': ['콩나물물고기',\n",
       "  '잡곡밥',\n",
       "  '냉도토리묵사발',\n",
       "  '사각어물볶음',\n",
       "  '못두부무침',\n",
       "  '꽉두기',\n",
       "  '현미밥',\n",
       "  '더위극복 수박화채',\n",
       "  '그런설러드&드레싱'],\n",
       " 'veg': '불고기생러드'}"
      ]
     },
     "execution_count": 176,
     "metadata": {},
     "output_type": "execute_result"
    }
   ],
   "source": [
    "tue_dict"
   ]
  },
  {
   "cell_type": "code",
   "execution_count": 177,
   "id": "819d7b36",
   "metadata": {},
   "outputs": [],
   "source": [
    "gusik_menu = [mon_dict, tue_dict, wed_dict, thu_dict, fri_dict]"
   ]
  },
  {
   "cell_type": "code",
   "execution_count": 178,
   "id": "f912f7ff",
   "metadata": {},
   "outputs": [
    {
     "name": "stdout",
     "output_type": "stream",
     "text": [
      "7/7(월)\n"
     ]
    },
    {
     "data": {
      "text/plain": [
       "['콩나물물고기',\n",
       " '잡곡밥',\n",
       " '냉도토리묵사발',\n",
       " '사각어물볶음',\n",
       " '못두부무침',\n",
       " '꽉두기',\n",
       " '현미밥',\n",
       " '더위극복 수박화채',\n",
       " '그런설러드&드레싱']"
      ]
     },
     "execution_count": 178,
     "metadata": {},
     "output_type": "execute_result"
    }
   ],
   "source": [
    "print(gusik_menu[0]['day'])\n",
    "gusik_menu[1]['menu']"
   ]
  },
  {
   "cell_type": "code",
   "execution_count": 179,
   "id": "403d7b0c",
   "metadata": {},
   "outputs": [],
   "source": [
    "# json 파일로 저장 (gusik_menu.json)\n",
    "\n",
    "import json\n",
    "\n",
    "with open('gusik_menu.json', 'w', encoding = 'utf-8') as f : \n",
    "\tjson.dump(gusik_menu, f, indent = 4, ensure_ascii=False)"
   ]
  },
  {
   "cell_type": "code",
   "execution_count": null,
   "id": "91cb8556",
   "metadata": {},
   "outputs": [],
   "source": [
    "# github action (CI/CD) 로 github repo에 저장"
   ]
  },
  {
   "cell_type": "code",
   "execution_count": null,
   "id": "1d9b12b1",
   "metadata": {},
   "outputs": [],
   "source": [
    "# case 1. github repo에 저장된 json 파일을 기반으로 웹에 전달 (비동기 fetch)\n",
    "# case 2. discord bot 만들기\n",
    "# 매주 월요일 오전 10시에 json 파일 갱신, 매일 오전 11시 ~ 11시 반에 호출"
   ]
  }
 ],
 "metadata": {
  "kernelspec": {
   "display_name": "Python 3",
   "language": "python",
   "name": "python3"
  },
  "language_info": {
   "codemirror_mode": {
    "name": "ipython",
    "version": 3
   },
   "file_extension": ".py",
   "mimetype": "text/x-python",
   "name": "python",
   "nbconvert_exporter": "python",
   "pygments_lexer": "ipython3",
   "version": "3.11.9"
  }
 },
 "nbformat": 4,
 "nbformat_minor": 5
}
