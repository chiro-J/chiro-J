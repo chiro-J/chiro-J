{
 "cells": [
  {
   "cell_type": "code",
   "execution_count": null,
   "id": "6710b8d2",
   "metadata": {},
   "outputs": [],
   "source": [
    "!pip install easyocr"
   ]
  },
  {
   "cell_type": "code",
   "execution_count": null,
   "id": "0cb36eb8",
   "metadata": {},
   "outputs": [],
   "source": [
    "pip install git+https://github.com/JaidedAI/EasyOCR.git"
   ]
  },
  {
   "cell_type": "code",
   "execution_count": null,
   "id": "9182a81a",
   "metadata": {},
   "outputs": [],
   "source": [
    "import easyocr\n",
    "reader = easyocr.Reader(['ch_sim','en']) # this needs to run only once to load the model into memory\n",
    "result = reader.readtext('chinese.jpg')"
   ]
  },
  {
   "cell_type": "code",
   "execution_count": null,
   "id": "e5fba44c",
   "metadata": {},
   "outputs": [],
   "source": [
    "import requests\n",
    "import lxml\n",
    "import beautifulsoup4"
   ]
  },
  {
   "cell_type": "code",
   "execution_count": null,
   "id": "6f9f7764",
   "metadata": {},
   "outputs": [],
   "source": [
    "src_img = \"123.jpg\""
   ]
  },
  {
   "cell_type": "code",
   "execution_count": null,
   "id": "33166e31",
   "metadata": {},
   "outputs": [
    {
     "name": "stderr",
     "output_type": "stream",
     "text": [
      "Neither CUDA nor MPS are available - defaulting to CPU. Note: This module is much faster with a GPU.\n",
      "C:\\Users\\Admin\\AppData\\Local\\Packages\\PythonSoftwareFoundation.Python.3.11_qbz5n2kfra8p0\\LocalCache\\local-packages\\Python311\\site-packages\\torch\\utils\\data\\dataloader.py:665: UserWarning: 'pin_memory' argument is set as true but no accelerator is found, then device pinned memory won't be used.\n",
      "  warnings.warn(warn_msg)\n"
     ]
    }
   ],
   "source": [
    "reader = easyocr.Reader(['ko','en'])\n",
    "ocr_txt = reader.readtext(src_img)\n",
    "\n",
    "\n",
    "contents = []\n",
    "\n",
    "for b_box, text, cf_level in ocr_txt:\n",
    "    contents.append(text)  # 각 OCR 결과의 텍스트를 추가\n",
    "\n",
    "\n",
    "\n"
   ]
  },
  {
   "cell_type": "code",
   "execution_count": 30,
   "id": "f8135a35",
   "metadata": {},
   "outputs": [
    {
     "data": {
      "text/plain": [
       "['본우리집밥',\n",
       " '본우리집밥 주간 메뉴표',\n",
       " '본우리집밥 티스점',\n",
       " '구분',\n",
       " '6/ 30 (월)',\n",
       " '7 / 1 (화)',\n",
       " '7 / 2 (수)',\n",
       " '7 / 3 (목)',\n",
       " '7 / 4 (금)',\n",
       " '오늘은 집밥',\n",
       " '오늘은 집밥',\n",
       " '오늘은 집밥',\n",
       " '오늘은 집밥',\n",
       " '오늘은 집밥',\n",
       " '얼른닭개장',\n",
       " '물은지사태짐',\n",
       " '고시래기비밥국수',\n",
       " '오징어제육볶음',\n",
       " '당수육&후르스소스',\n",
       " '지청음식:',\n",
       " '고추마요떡갈비',\n",
       " '보리밥',\n",
       " '미니메밀전병',\n",
       " '잡곡밥',\n",
       " '떠먹는유부초밥',\n",
       " '중식',\n",
       " '(11:20~13:30)',\n",
       " '잡곡밥',\n",
       " '청양건새우아육국',\n",
       " '취나물영양밥&양념장',\n",
       " '감자계란국',\n",
       " '채소깜봉국',\n",
       " '어덩버섯미나리초무침',\n",
       " '스크램블에그',\n",
       " '꽂게된장찌개',\n",
       " '호박새우컷볶음',\n",
       " '알감자버터구이',\n",
       " '건파래자반',\n",
       " '들깨숙주나물',\n",
       " '땅콩연근조림',\n",
       " '삼다시마&초장',\n",
       " '참나물무침',\n",
       " '배추김치',\n",
       " '꽉두기',\n",
       " '배추김치',\n",
       " '배추김치',\n",
       " '배추김치',\n",
       " '현미밥',\n",
       " '현미밥',\n",
       " '현미밥',\n",
       " '현미밥',\n",
       " '현미밥',\n",
       " 'PLUS 코너',\n",
       " '불루베리모구모구',\n",
       " '레책에이드',\n",
       " '시원한 식혜',\n",
       " '시원한 보리차',\n",
       " '시원한 복숨아주스',\n",
       " '토마토설러드요드레싱',\n",
       " '그런생러드&드레싱',\n",
       " '그런설러드&드레싱',\n",
       " '그런생러드&드레싱',\n",
       " '그런생러드&드레싱',\n",
       " 'TAKE-OUT',\n",
       " '실러드',\n",
       " '치권계더설러드',\n",
       " '불고기설러드',\n",
       " '닭가슴살설러드',\n",
       " \"NNEW' 새우탕감실러드\",\n",
       " '훈제오리생러드',\n",
       " '식자재의 원산지논 일일메뉴 게시판에 별도로 표시하엿습니다:',\n",
       " '알레로기 주의 메뉴가 있으니 확인바람니다:',\n",
       " '안내사항',\n",
       " '(난류 우유 메밀 땅콩 대두 밀 고등어, 게, 새우 돼지고기, 복숨아 토마토 아황산류, 호두 , 닮고기, 쇠고기, 오징어, 조개류(굴 전복, 홍합) 자)',\n",
       " '위 식단은 식작재 소금에 따라 변경되 소 있습니다',\n",
       " '고대워?앙']"
      ]
     },
     "execution_count": 30,
     "metadata": {},
     "output_type": "execute_result"
    }
   ],
   "source": [
    "contents"
   ]
  },
  {
   "cell_type": "code",
   "execution_count": 38,
   "id": "9b095577",
   "metadata": {},
   "outputs": [
    {
     "data": {
      "text/plain": [
       "['6/ 30 (월)', '7 / 1 (화)', '7 / 2 (수)', '7 / 3 (목)']"
      ]
     },
     "execution_count": 38,
     "metadata": {},
     "output_type": "execute_result"
    }
   ],
   "source": [
    "day = contents[4:8]\n",
    "day"
   ]
  },
  {
   "cell_type": "code",
   "execution_count": 72,
   "id": "c9b3c94c",
   "metadata": {
    "vscode": {
     "languageId": "javascript"
    }
   },
   "outputs": [],
   "source": [
    "stopwords = ['본우리집밥', '본우리집밥 주간 메뉴표', '본우리집밥 티스점', '구분', '오늘은 집밥', 'PLUS 코너',  '(11:20~13:30)', '중식', 'TAKE-OUT', '식자재의 원산지논 일일메뉴 게시판에 별도로 표시하엿습니다:', '알레로기 주의 메뉴가 있으니 확인바람니다:', '안내사항', '(난류 우유 메밀 땅콩 대두 밀 고등어, 게, 새우 돼지고기, 복숨아 토마토 아황산류, 호두 , 닮고기, 쇠고기, 오징어, 조개류(굴 전복, 홍합) 자)', '위 식단은 식작재 소금에 따라 변경되 소 있습니다', '고대워?앙', '지청음식:', '실러드',]"
   ]
  },
  {
   "cell_type": "code",
   "execution_count": 73,
   "id": "962a78e5",
   "metadata": {
    "vscode": {
     "languageId": "javascript"
    }
   },
   "outputs": [
    {
     "name": "stdout",
     "output_type": "stream",
     "text": [
      "['6/ 30 (월)', '7 / 1 (화)', '7 / 2 (수)', '7 / 3 (목)', '7 / 4 (금)', '얼른닭개장', '물은지사태짐', '고시래기비밥국수', '오징어제육볶음', '당수육&후르스소스', '고추마요떡갈비', '보리밥', '미니메밀전병', '잡곡밥', '떠먹는유부초밥', '잡곡밥', '청양건새우아육국', '취나물영양밥&양념장', '감자계란국', '채소깜봉국', '어덩버섯미나리초무침', '스크램블에그', '꽂게된장찌개', '호박새우컷볶음', '알감자버터구이', '건파래자반', '들깨숙주나물', '땅콩연근조림', '삼다시마&초장', '참나물무침', '배추김치', '꽉두기', '배추김치', '배추김치', '배추김치', '현미밥', '현미밥', '현미밥', '현미밥', '현미밥', '불루베리모구모구', '레책에이드', '시원한 식혜', '시원한 보리차', '시원한 복숨아주스', '토마토설러드요드레싱', '그런생러드&드레싱', '그런설러드&드레싱', '그런생러드&드레싱', '그런생러드&드레싱', '치권계더설러드', '불고기설러드', '닭가슴살설러드', \"NNEW' 새우탕감실러드\", '훈제오리생러드']\n"
     ]
    }
   ],
   "source": [
    "crop_con = [word for word in contents if word not in stopwords]\n",
    "\n",
    "print(crop_con)"
   ]
  },
  {
   "cell_type": "code",
   "execution_count": 78,
   "id": "2d993091",
   "metadata": {},
   "outputs": [
    {
     "data": {
      "text/plain": [
       "['6/ 30 (월)',\n",
       " '7 / 1 (화)',\n",
       " '7 / 2 (수)',\n",
       " '7 / 3 (목)',\n",
       " '7 / 4 (금)',\n",
       " '얼른닭개장',\n",
       " '물은지사태짐',\n",
       " '고시래기비밥국수',\n",
       " '오징어제육볶음',\n",
       " '당수육&후르스소스',\n",
       " '고추마요떡갈비',\n",
       " '보리밥',\n",
       " '미니메밀전병',\n",
       " '잡곡밥',\n",
       " '떠먹는유부초밥',\n",
       " '잡곡밥',\n",
       " '청양건새우아육국',\n",
       " '취나물영양밥&양념장',\n",
       " '감자계란국',\n",
       " '채소깜봉국',\n",
       " '어덩버섯미나리초무침',\n",
       " '스크램블에그',\n",
       " '꽂게된장찌개',\n",
       " '호박새우컷볶음',\n",
       " '알감자버터구이',\n",
       " '건파래자반',\n",
       " '들깨숙주나물',\n",
       " '땅콩연근조림',\n",
       " '삼다시마&초장',\n",
       " '참나물무침',\n",
       " '배추김치',\n",
       " '꽉두기',\n",
       " '배추김치',\n",
       " '배추김치',\n",
       " '배추김치',\n",
       " '현미밥',\n",
       " '현미밥',\n",
       " '현미밥',\n",
       " '현미밥',\n",
       " '현미밥',\n",
       " '불루베리모구모구',\n",
       " '레책에이드',\n",
       " '시원한 식혜',\n",
       " '시원한 보리차',\n",
       " '시원한 복숨아주스',\n",
       " '토마토설러드요드레싱',\n",
       " '그런생러드&드레싱',\n",
       " '그런설러드&드레싱',\n",
       " '그런생러드&드레싱',\n",
       " '그런생러드&드레싱',\n",
       " '치권계더설러드',\n",
       " '불고기설러드',\n",
       " '닭가슴살설러드',\n",
       " \"NNEW' 새우탕감실러드\",\n",
       " '훈제오리생러드']"
      ]
     },
     "execution_count": 78,
     "metadata": {},
     "output_type": "execute_result"
    }
   ],
   "source": [
    "crop_con"
   ]
  },
  {
   "cell_type": "code",
   "execution_count": 79,
   "id": "cb1f0aa4",
   "metadata": {},
   "outputs": [
    {
     "data": {
      "text/plain": [
       "55"
      ]
     },
     "execution_count": 79,
     "metadata": {},
     "output_type": "execute_result"
    }
   ],
   "source": [
    "len(crop_con)"
   ]
  },
  {
   "cell_type": "code",
   "execution_count": 87,
   "id": "f5b5233d",
   "metadata": {},
   "outputs": [
    {
     "data": {
      "text/plain": [
       "['6/ 30 (월)',\n",
       " '얼른닭개장',\n",
       " '고추마요떡갈비',\n",
       " '잡곡밥',\n",
       " '어덩버섯미나리초무침',\n",
       " '건파래자반',\n",
       " '배추김치',\n",
       " '현미밥',\n",
       " '불루베리모구모구',\n",
       " '토마토설러드요드레싱',\n",
       " '치권계더설러드']"
      ]
     },
     "execution_count": 87,
     "metadata": {},
     "output_type": "execute_result"
    }
   ],
   "source": [
    "crop_con[::5]"
   ]
  },
  {
   "cell_type": "code",
   "execution_count": null,
   "id": "3c4f805a",
   "metadata": {},
   "outputs": [],
   "source": [
    "# [::n] n번째 요소마다 꺼내서 각 요일 리스트에 추가\n",
    "mon_list = crop_con[::5]\n",
    "tue_list = crop_con[1::5]\n",
    "wed_list = crop_con[2::5]\n",
    "thu_list = crop_con[3::5]\n",
    "fri_list = crop_con[4::5]\n"
   ]
  },
  {
   "cell_type": "code",
   "execution_count": 94,
   "id": "6ee4f88c",
   "metadata": {},
   "outputs": [
    {
     "data": {
      "text/plain": [
       "['7 / 3 (목)',\n",
       " '오징어제육볶음',\n",
       " '잡곡밥',\n",
       " '감자계란국',\n",
       " '호박새우컷볶음',\n",
       " '삼다시마&초장',\n",
       " '배추김치',\n",
       " '현미밥',\n",
       " '시원한 보리차',\n",
       " '그런생러드&드레싱',\n",
       " \"NNEW' 새우탕감실러드\"]"
      ]
     },
     "execution_count": 94,
     "metadata": {},
     "output_type": "execute_result"
    }
   ],
   "source": [
    "thu_list"
   ]
  },
  {
   "cell_type": "code",
   "execution_count": null,
   "id": "005bcea8",
   "metadata": {},
   "outputs": [],
   "source": [
    "# 5개의 리스트 각각에서 0번 인덱스 값은 'day' 라는 항목에 넣기\n",
    "# 4번 인덱스 값은 'veg' 라는 항목에 넣기\n",
    "# 딕셔너리 구조 {day: -, menu: [], veg: -}"
   ]
  },
  {
   "cell_type": "code",
   "execution_count": null,
   "id": "4f57ccc9",
   "metadata": {},
   "outputs": [],
   "source": []
  }
 ],
 "metadata": {
  "kernelspec": {
   "display_name": "Python 3",
   "language": "python",
   "name": "python3"
  },
  "language_info": {
   "codemirror_mode": {
    "name": "ipython",
    "version": 3
   },
   "file_extension": ".py",
   "mimetype": "text/x-python",
   "name": "python",
   "nbconvert_exporter": "python",
   "pygments_lexer": "ipython3",
   "version": "3.11.9"
  }
 },
 "nbformat": 4,
 "nbformat_minor": 5
}
